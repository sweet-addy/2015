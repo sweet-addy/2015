{
  "nbformat": 4,
  "nbformat_minor": 0,
  "metadata": {
    "colab": {
      "name": "ML Fake vs Real News (Statistical Analysis - Tensorflow).ipynb",
      "provenance": [],
      "mount_file_id": "1gHOv9UbcBpfeCwXJVKVLdnm5DTLPT_aE",
      "authorship_tag": "ABX9TyN4OflqtLzkLBxO0c/xZUxU",
      "include_colab_link": true
    },
    "kernelspec": {
      "name": "python3",
      "display_name": "Python 3"
    }
  },
  "cells": [
    {
      "cell_type": "markdown",
      "metadata": {
        "id": "view-in-github",
        "colab_type": "text"
      },
      "source": [
        "<a href=\"https://colab.research.google.com/github/sweet-addy/2015/blob/master/ML_Fake_vs_Real_News_(Statistical_Analysis_Tensorflow).ipynb\" target=\"_parent\"><img src=\"https://colab.research.google.com/assets/colab-badge.svg\" alt=\"Open In Colab\"/></a>"
      ]
    },
    {
      "cell_type": "code",
      "metadata": {
        "id": "FA_oO9emzxk4",
        "colab_type": "code",
        "colab": {
          "base_uri": "https://localhost:8080/",
          "height": 51
        },
        "outputId": "5d8aaacd-b363-453b-8b38-7b8b2ce8edc9"
      },
      "source": [
        "import spacy\n",
        "import pandas as pd\n",
        "import numpy as np\n",
        "import nltk\n",
        "nltk.download('punkt')\n",
        "from nltk.tokenize.toktok import ToktokTokenizer\n",
        "import re\n",
        "from bs4 import BeautifulSoup\n",
        "import unicodedata\n",
        "import en_core_web_sm\n",
        "import os\n",
        "import matplotlib.pyplot as plt\n",
        "import seaborn as sns\n",
        "import statsmodels.api as sm\n",
        "from sklearn.feature_extraction.text import CountVectorizer, TfidfVectorizer\n",
        "from sklearn.model_selection import train_test_split\n",
        "from sklearn import linear_model\n",
        "from sklearn.linear_model import Ridge\n",
        "from sklearn.linear_model import LinearRegression\n",
        "from sklearn import svm\n",
        "from time import process_time, time\n",
        "from sklearn import metrics\n",
        "from sklearn.svm import SVR\n",
        "from sklearn.tree import DecisionTreeRegressor\n",
        "from sklearn.ensemble import RandomForestRegressor\n",
        "from sklearn.ensemble import GradientBoostingRegressor"
      ],
      "execution_count": 19,
      "outputs": [
        {
          "output_type": "stream",
          "text": [
            "[nltk_data] Downloading package punkt to /root/nltk_data...\n",
            "[nltk_data]   Unzipping tokenizers/punkt.zip.\n"
          ],
          "name": "stdout"
        }
      ]
    },
    {
      "cell_type": "code",
      "metadata": {
        "id": "Q5P0DM3LF8qR",
        "colab_type": "code",
        "colab": {
          "resources": {
            "http://localhost:8080/nbextensions/google.colab/files.js": {
              "data": "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",
              "ok": true,
              "headers": [
                [
                  "content-type",
                  "application/javascript"
                ]
              ],
              "status": 200,
              "status_text": ""
            }
          },
          "base_uri": "https://localhost:8080/",
          "height": 72
        },
        "outputId": "1a6fb5cf-cd4c-4f0d-ed6e-675be8c101a4"
      },
      "source": [
        "from google.colab import files\n",
        "uploaded = files.upload()"
      ],
      "execution_count": 2,
      "outputs": [
        {
          "output_type": "display_data",
          "data": {
            "text/html": [
              "\n",
              "     <input type=\"file\" id=\"files-48f7a50f-92cf-45f0-b50c-4dc8f69c8684\" name=\"files[]\" multiple disabled\n",
              "        style=\"border:none\" />\n",
              "     <output id=\"result-48f7a50f-92cf-45f0-b50c-4dc8f69c8684\">\n",
              "      Upload widget is only available when the cell has been executed in the\n",
              "      current browser session. Please rerun this cell to enable.\n",
              "      </output>\n",
              "      <script src=\"/nbextensions/google.colab/files.js\"></script> "
            ],
            "text/plain": [
              "<IPython.core.display.HTML object>"
            ]
          },
          "metadata": {
            "tags": []
          }
        },
        {
          "output_type": "stream",
          "text": [
            "Saving Fake_True_news_shuffled.csv to Fake_True_news_shuffled.csv\n"
          ],
          "name": "stdout"
        }
      ]
    },
    {
      "cell_type": "code",
      "metadata": {
        "id": "XfSKvQu0NN45",
        "colab_type": "code",
        "colab": {}
      },
      "source": [
        "%%time\n",
        "import io\n",
        "Fake_True_news = pd.read_csv(io.BytesIO(uploaded['Fake_True_news_shuffled.csv']))\n",
        "# Dataset is now stored in a Pandas Dataframe"
      ],
      "execution_count": 4,
      "outputs": []
    },
    {
      "cell_type": "code",
      "metadata": {
        "id": "IwKFapRVN_Hm",
        "colab_type": "code",
        "colab": {
          "base_uri": "https://localhost:8080/",
          "height": 255
        },
        "outputId": "1b6d9838-3cd5-4707-8462-c608c70930cf"
      },
      "source": [
        "Fake_True_news.info()"
      ],
      "execution_count": 6,
      "outputs": [
        {
          "output_type": "stream",
          "text": [
            "<class 'pandas.core.frame.DataFrame'>\n",
            "RangeIndex: 44898 entries, 0 to 44897\n",
            "Data columns (total 7 columns):\n",
            " #   Column     Non-Null Count  Dtype \n",
            "---  ------     --------------  ----- \n",
            " 0   title      44898 non-null  object\n",
            " 1   text       44898 non-null  object\n",
            " 2   subject    44898 non-null  object\n",
            " 3   date       44898 non-null  object\n",
            " 4   real/fake  44898 non-null  int64 \n",
            " 5   title_nlp  44898 non-null  object\n",
            " 6   text_nlp   44267 non-null  object\n",
            "dtypes: int64(1), object(6)\n",
            "memory usage: 2.4+ MB\n"
          ],
          "name": "stdout"
        }
      ]
    },
    {
      "cell_type": "code",
      "metadata": {
        "id": "j7PxsIqNOJku",
        "colab_type": "code",
        "colab": {
          "base_uri": "https://localhost:8080/",
          "height": 255
        },
        "outputId": "17ac9dc3-8786-4aa5-cd8b-06b486f344e2"
      },
      "source": [
        "#didn't notice that during pre-processing some rows in 'text_nlp' got deleted. Drop the rows that contain a NaN in that column.\n",
        "Fake_True_news = Fake_True_news.dropna(axis=0, subset=['text_nlp'])\n",
        "Fake_True_news.info()"
      ],
      "execution_count": 7,
      "outputs": [
        {
          "output_type": "stream",
          "text": [
            "<class 'pandas.core.frame.DataFrame'>\n",
            "Int64Index: 44267 entries, 0 to 44897\n",
            "Data columns (total 7 columns):\n",
            " #   Column     Non-Null Count  Dtype \n",
            "---  ------     --------------  ----- \n",
            " 0   title      44267 non-null  object\n",
            " 1   text       44267 non-null  object\n",
            " 2   subject    44267 non-null  object\n",
            " 3   date       44267 non-null  object\n",
            " 4   real/fake  44267 non-null  int64 \n",
            " 5   title_nlp  44267 non-null  object\n",
            " 6   text_nlp   44267 non-null  object\n",
            "dtypes: int64(1), object(6)\n",
            "memory usage: 2.7+ MB\n"
          ],
          "name": "stdout"
        }
      ]
    },
    {
      "cell_type": "markdown",
      "metadata": {
        "id": "pI-lZyaqXec3",
        "colab_type": "text"
      },
      "source": [
        "**Build Traning and Test Datasets (same as in Jupyter NOtebook)**"
      ]
    },
    {
      "cell_type": "code",
      "metadata": {
        "id": "A-ULvEngXZE3",
        "colab_type": "code",
        "colab": {}
      },
      "source": [
        "#create feature data frame and isolate target variable\n",
        "\n",
        "#feature dataframe\n",
        "X_text = Fake_True_news['text_nlp'] # load the dataset as a pandas data frame\n",
        "\n",
        "#target variable\n",
        "y_realfake = Fake_True_news['real/fake']\n",
        "\n",
        "# create training and testing vars\n",
        "X_train_text, X_test_text, y_train_realfake, y_test_realfake = train_test_split(X_text, y_realfake, test_size=0.2,random_state=27)"
      ],
      "execution_count": 11,
      "outputs": []
    },
    {
      "cell_type": "code",
      "metadata": {
        "id": "IcKcS-OVYlpr",
        "colab_type": "code",
        "colab": {
          "base_uri": "https://localhost:8080/",
          "height": 51
        },
        "outputId": "ef7abec0-3359-4237-eb72-6abd58f4e6df"
      },
      "source": [
        "%%time\n",
        "\n",
        "# build BOW features on train news\n",
        "cv = CountVectorizer(binary=False, min_df=5, max_df=1.0, ngram_range=(1,2))\n",
        "cv_Xtrain_features = cv.fit_transform(X_train_text)\n",
        "\n",
        "\n",
        "# build TFIDF features on train news\n",
        "tv = TfidfVectorizer(use_idf=True, min_df=5, max_df=1.0, ngram_range=(1,2),\n",
        "                     sublinear_tf=True)\n",
        "tv_Xtrain_features = tv.fit_transform(X_train_text)"
      ],
      "execution_count": 13,
      "outputs": [
        {
          "output_type": "stream",
          "text": [
            "CPU times: user 1min 23s, sys: 2.06 s, total: 1min 25s\n",
            "Wall time: 1min 27s\n"
          ],
          "name": "stdout"
        }
      ]
    },
    {
      "cell_type": "code",
      "metadata": {
        "id": "F5JvO9KmZMEN",
        "colab_type": "code",
        "colab": {}
      },
      "source": [
        "#transform test news into features\n",
        "cv_Xtest_features = cv.transform(X_test_text)\n",
        "tv_Xtest_features = tv.transform(X_test_text)"
      ],
      "execution_count": 15,
      "outputs": []
    },
    {
      "cell_type": "code",
      "metadata": {
        "id": "ek66ZM12Za4N",
        "colab_type": "code",
        "colab": {
          "base_uri": "https://localhost:8080/",
          "height": 51
        },
        "outputId": "66521866-c81e-40ae-e112-ec03ae9a7a73"
      },
      "source": [
        "print('BOW model:> Train features shape:', cv_Xtrain_features.shape, ' Test features shape:', cv_Xtest_features.shape)\n",
        "print('TFIDF model:> Train features shape:', tv_Xtrain_features.shape, ' Test features shape:', tv_Xtest_features.shape)"
      ],
      "execution_count": 16,
      "outputs": [
        {
          "output_type": "stream",
          "text": [
            "BOW model:> Train features shape: (35413, 273556)  Test features shape: (8854, 273556)\n",
            "TFIDF model:> Train features shape: (35413, 273556)  Test features shape: (8854, 273556)\n"
          ],
          "name": "stdout"
        }
      ]
    },
    {
      "cell_type": "markdown",
      "metadata": {
        "id": "42YdVdmrNiyF",
        "colab_type": "text"
      },
      "source": [
        "**Newer Supervised Deep Learning Models**"
      ]
    },
    {
      "cell_type": "code",
      "metadata": {
        "id": "sPG7Yb5CN2nH",
        "colab_type": "code",
        "colab": {}
      },
      "source": [
        "import gensim\n",
        "from tensorflow import keras\n",
        "from tensorflow.keras.models import Sequential\n",
        "from tensorflow.keras.layers import Dropout, Activation, Dense\n",
        "from sklearn.preprocessing import LabelEncoder"
      ],
      "execution_count": 17,
      "outputs": []
    },
    {
      "cell_type": "markdown",
      "metadata": {
        "id": "RFMpDBxHb8pd",
        "colab_type": "text"
      },
      "source": [
        "**Prediction class label encoding**"
      ]
    },
    {
      "cell_type": "code",
      "metadata": {
        "id": "dZwwzlyPN2ox",
        "colab_type": "code",
        "colab": {
          "base_uri": "https://localhost:8080/",
          "height": 51
        },
        "outputId": "ec4bf44b-1a74-4649-a85a-e95e2798ad35"
      },
      "source": [
        "%%time\n",
        "\n",
        "le = LabelEncoder()\n",
        "# tokenize train reviews & encode train labels\n",
        "tokenized_train = [nltk.word_tokenize(text)\n",
        "                       for text in X_train_text]\n",
        "y_train = le.fit_transform(y_train_realfake)\n",
        "# tokenize test reviews & encode test labels\n",
        "tokenized_test = [nltk.word_tokenize(text)\n",
        "                       for text in X_test_text]\n",
        "y_test = le.fit_transform(y_test_realfake)"
      ],
      "execution_count": 20,
      "outputs": [
        {
          "output_type": "stream",
          "text": [
            "CPU times: user 56.8 s, sys: 618 ms, total: 57.4 s\n",
            "Wall time: 57.6 s\n"
          ],
          "name": "stdout"
        }
      ]
    },
    {
      "cell_type": "code",
      "metadata": {
        "id": "7S9QWaxbbkh_",
        "colab_type": "code",
        "colab": {
          "base_uri": "https://localhost:8080/",
          "height": 153
        },
        "outputId": "837f33c6-b380-47c3-b6a8-30aca1c0e024"
      },
      "source": [
        "#print class label encoding map and encoded labels\n",
        "print('Sentiment class label map:', dict(zip(le.classes_, le.transform(le.classes_))))\n",
        "print('Sample test label transformation:\\n'+'-'*35,\n",
        "      '\\nActual Labels:', y_test_realfake[:3], '\\nEncoded Labels:', y_test[:3])"
      ],
      "execution_count": 21,
      "outputs": [
        {
          "output_type": "stream",
          "text": [
            "Sentiment class label map: {0: 0, 1: 1}\n",
            "Sample test label transformation:\n",
            "----------------------------------- \n",
            "Actual Labels: 35267    0\n",
            "19951    1\n",
            "36697    1\n",
            "Name: real/fake, dtype: int64 \n",
            "Encoded Labels: [0 1 1]\n"
          ],
          "name": "stdout"
        }
      ]
    },
    {
      "cell_type": "markdown",
      "metadata": {
        "id": "mfSJ--IAcDcl",
        "colab_type": "text"
      },
      "source": [
        "**Feature Engineering with word embeddings**"
      ]
    },
    {
      "cell_type": "code",
      "metadata": {
        "id": "hp90E3MxcPGP",
        "colab_type": "code",
        "colab": {}
      },
      "source": [
        "import logging\n",
        "logging.basicConfig(format='%(asctime)s : %(levelname)s : %(message)s', level=logging.INFO)"
      ],
      "execution_count": 22,
      "outputs": []
    },
    {
      "cell_type": "code",
      "metadata": {
        "id": "RMYPbMMGcS6M",
        "colab_type": "code",
        "colab": {
          "base_uri": "https://localhost:8080/",
          "height": 1000
        },
        "outputId": "127ec4a3-6a08-48c7-fad7-d91f451a2dfc"
      },
      "source": [
        "%%time\n",
        "\n",
        "# build word2vec model\n",
        "w2v_num_features = 300\n",
        "w2v_model = gensim.models.Word2Vec(tokenized_train, size=w2v_num_features, window=150,\n",
        "                                   min_count=10, workers=4, iter=5)"
      ],
      "execution_count": 23,
      "outputs": [
        {
          "output_type": "stream",
          "text": [
            "2020-09-26 08:05:19,953 : INFO : collecting all words and their counts\n",
            "2020-09-26 08:05:19,954 : INFO : PROGRESS: at sentence #0, processed 0 words, keeping 0 word types\n",
            "2020-09-26 08:05:20,634 : INFO : PROGRESS: at sentence #10000, processed 2389521 words, keeping 66284 word types\n",
            "2020-09-26 08:05:21,393 : INFO : PROGRESS: at sentence #20000, processed 4872953 words, keeping 91307 word types\n",
            "2020-09-26 08:05:22,312 : INFO : PROGRESS: at sentence #30000, processed 7321798 words, keeping 108145 word types\n",
            "2020-09-26 08:05:22,847 : INFO : collected 115591 word types from a corpus of 8639353 raw words and 35413 sentences\n",
            "2020-09-26 08:05:22,849 : INFO : Loading a fresh vocabulary\n",
            "2020-09-26 08:05:22,990 : INFO : effective_min_count=10 retains 29956 unique words (25% of original 115591, drops 85635)\n",
            "2020-09-26 08:05:22,991 : INFO : effective_min_count=10 leaves 8430884 word corpus (97% of original 8639353, drops 208469)\n",
            "2020-09-26 08:05:23,142 : INFO : deleting the raw counts dictionary of 115591 items\n",
            "2020-09-26 08:05:23,152 : INFO : sample=0.001 downsamples 17 most-common words\n",
            "2020-09-26 08:05:23,154 : INFO : downsampling leaves estimated 8166431 word corpus (96.9% of prior 8430884)\n",
            "2020-09-26 08:05:23,355 : INFO : estimated required memory for 29956 words and 300 dimensions: 86872400 bytes\n",
            "2020-09-26 08:05:23,356 : INFO : resetting layer weights\n",
            "2020-09-26 08:05:30,928 : INFO : training model with 4 workers on 29956 vocabulary and 300 features, using sg=0 hs=0 sample=0.001 negative=5 window=150\n",
            "2020-09-26 08:05:31,938 : INFO : EPOCH 1 - PROGRESS: at 0.76% examples, 56153 words/s, in_qsize 7, out_qsize 0\n",
            "2020-09-26 08:05:33,049 : INFO : EPOCH 1 - PROGRESS: at 1.68% examples, 61768 words/s, in_qsize 7, out_qsize 0\n",
            "2020-09-26 08:05:34,126 : INFO : EPOCH 1 - PROGRESS: at 2.62% examples, 64303 words/s, in_qsize 7, out_qsize 0\n",
            "2020-09-26 08:05:35,197 : INFO : EPOCH 1 - PROGRESS: at 3.56% examples, 65576 words/s, in_qsize 7, out_qsize 0\n",
            "2020-09-26 08:05:36,525 : INFO : EPOCH 1 - PROGRESS: at 4.57% examples, 64759 words/s, in_qsize 8, out_qsize 0\n",
            "2020-09-26 08:05:37,571 : INFO : EPOCH 1 - PROGRESS: at 5.53% examples, 66064 words/s, in_qsize 8, out_qsize 0\n",
            "2020-09-26 08:05:38,647 : INFO : EPOCH 1 - PROGRESS: at 6.52% examples, 66470 words/s, in_qsize 8, out_qsize 0\n",
            "2020-09-26 08:05:39,725 : INFO : EPOCH 1 - PROGRESS: at 7.43% examples, 66648 words/s, in_qsize 7, out_qsize 0\n",
            "2020-09-26 08:05:40,809 : INFO : EPOCH 1 - PROGRESS: at 8.44% examples, 66951 words/s, in_qsize 7, out_qsize 0\n",
            "2020-09-26 08:05:41,882 : INFO : EPOCH 1 - PROGRESS: at 9.38% examples, 67086 words/s, in_qsize 7, out_qsize 0\n",
            "2020-09-26 08:05:42,910 : INFO : EPOCH 1 - PROGRESS: at 10.28% examples, 67353 words/s, in_qsize 7, out_qsize 0\n",
            "2020-09-26 08:05:44,019 : INFO : EPOCH 1 - PROGRESS: at 11.26% examples, 67357 words/s, in_qsize 7, out_qsize 0\n",
            "2020-09-26 08:05:45,131 : INFO : EPOCH 1 - PROGRESS: at 12.13% examples, 67292 words/s, in_qsize 6, out_qsize 1\n",
            "2020-09-26 08:05:46,182 : INFO : EPOCH 1 - PROGRESS: at 13.10% examples, 67524 words/s, in_qsize 7, out_qsize 0\n",
            "2020-09-26 08:05:47,303 : INFO : EPOCH 1 - PROGRESS: at 14.03% examples, 67431 words/s, in_qsize 6, out_qsize 1\n",
            "2020-09-26 08:05:48,384 : INFO : EPOCH 1 - PROGRESS: at 14.92% examples, 67513 words/s, in_qsize 7, out_qsize 0\n",
            "2020-09-26 08:05:49,488 : INFO : EPOCH 1 - PROGRESS: at 15.80% examples, 67489 words/s, in_qsize 8, out_qsize 2\n",
            "2020-09-26 08:05:50,531 : INFO : EPOCH 1 - PROGRESS: at 16.68% examples, 67675 words/s, in_qsize 7, out_qsize 0\n",
            "2020-09-26 08:05:51,821 : INFO : EPOCH 1 - PROGRESS: at 17.73% examples, 67511 words/s, in_qsize 7, out_qsize 0\n",
            "2020-09-26 08:05:52,852 : INFO : EPOCH 1 - PROGRESS: at 18.66% examples, 67743 words/s, in_qsize 7, out_qsize 0\n",
            "2020-09-26 08:05:53,881 : INFO : EPOCH 1 - PROGRESS: at 19.61% examples, 67950 words/s, in_qsize 7, out_qsize 0\n",
            "2020-09-26 08:05:54,929 : INFO : EPOCH 1 - PROGRESS: at 20.52% examples, 68091 words/s, in_qsize 7, out_qsize 0\n",
            "2020-09-26 08:05:56,047 : INFO : EPOCH 1 - PROGRESS: at 21.46% examples, 68001 words/s, in_qsize 7, out_qsize 0\n",
            "2020-09-26 08:05:57,165 : INFO : EPOCH 1 - PROGRESS: at 22.32% examples, 67931 words/s, in_qsize 8, out_qsize 0\n",
            "2020-09-26 08:05:58,199 : INFO : EPOCH 1 - PROGRESS: at 23.21% examples, 68063 words/s, in_qsize 7, out_qsize 0\n",
            "2020-09-26 08:05:59,257 : INFO : EPOCH 1 - PROGRESS: at 24.12% examples, 68165 words/s, in_qsize 7, out_qsize 0\n",
            "2020-09-26 08:06:00,455 : INFO : EPOCH 1 - PROGRESS: at 25.06% examples, 67872 words/s, in_qsize 8, out_qsize 0\n",
            "2020-09-26 08:06:01,877 : INFO : EPOCH 1 - PROGRESS: at 25.85% examples, 67050 words/s, in_qsize 7, out_qsize 0\n",
            "2020-09-26 08:06:02,896 : INFO : EPOCH 1 - PROGRESS: at 26.75% examples, 66911 words/s, in_qsize 7, out_qsize 0\n",
            "2020-09-26 08:06:04,123 : INFO : EPOCH 1 - PROGRESS: at 27.40% examples, 66008 words/s, in_qsize 7, out_qsize 0\n",
            "2020-09-26 08:06:05,241 : INFO : EPOCH 1 - PROGRESS: at 28.20% examples, 65759 words/s, in_qsize 8, out_qsize 0\n",
            "2020-09-26 08:06:06,421 : INFO : EPOCH 1 - PROGRESS: at 28.86% examples, 65201 words/s, in_qsize 7, out_qsize 0\n",
            "2020-09-26 08:06:07,603 : INFO : EPOCH 1 - PROGRESS: at 29.66% examples, 64806 words/s, in_qsize 7, out_qsize 0\n",
            "2020-09-26 08:06:08,876 : INFO : EPOCH 1 - PROGRESS: at 30.58% examples, 64589 words/s, in_qsize 7, out_qsize 0\n",
            "2020-09-26 08:06:10,092 : INFO : EPOCH 1 - PROGRESS: at 31.54% examples, 64493 words/s, in_qsize 7, out_qsize 0\n",
            "2020-09-26 08:06:11,183 : INFO : EPOCH 1 - PROGRESS: at 32.32% examples, 64354 words/s, in_qsize 7, out_qsize 0\n",
            "2020-09-26 08:06:12,409 : INFO : EPOCH 1 - PROGRESS: at 33.08% examples, 64023 words/s, in_qsize 7, out_qsize 0\n",
            "2020-09-26 08:06:13,462 : INFO : EPOCH 1 - PROGRESS: at 34.02% examples, 64173 words/s, in_qsize 8, out_qsize 0\n",
            "2020-09-26 08:06:14,584 : INFO : EPOCH 1 - PROGRESS: at 34.83% examples, 64027 words/s, in_qsize 7, out_qsize 0\n",
            "2020-09-26 08:06:15,809 : INFO : EPOCH 1 - PROGRESS: at 35.77% examples, 63926 words/s, in_qsize 7, out_qsize 0\n",
            "2020-09-26 08:06:16,824 : INFO : EPOCH 1 - PROGRESS: at 36.48% examples, 63907 words/s, in_qsize 7, out_qsize 0\n",
            "2020-09-26 08:06:17,887 : INFO : EPOCH 1 - PROGRESS: at 37.16% examples, 63662 words/s, in_qsize 7, out_qsize 1\n",
            "2020-09-26 08:06:19,049 : INFO : EPOCH 1 - PROGRESS: at 38.10% examples, 63671 words/s, in_qsize 8, out_qsize 1\n",
            "2020-09-26 08:06:20,241 : INFO : EPOCH 1 - PROGRESS: at 38.97% examples, 63621 words/s, in_qsize 7, out_qsize 0\n",
            "2020-09-26 08:06:21,338 : INFO : EPOCH 1 - PROGRESS: at 39.69% examples, 63510 words/s, in_qsize 7, out_qsize 0\n",
            "2020-09-26 08:06:22,412 : INFO : EPOCH 1 - PROGRESS: at 40.34% examples, 63263 words/s, in_qsize 8, out_qsize 0\n",
            "2020-09-26 08:06:23,617 : INFO : EPOCH 1 - PROGRESS: at 41.34% examples, 63226 words/s, in_qsize 7, out_qsize 0\n",
            "2020-09-26 08:06:24,647 : INFO : EPOCH 1 - PROGRESS: at 42.13% examples, 63222 words/s, in_qsize 7, out_qsize 0\n",
            "2020-09-26 08:06:25,746 : INFO : EPOCH 1 - PROGRESS: at 43.02% examples, 63318 words/s, in_qsize 7, out_qsize 0\n",
            "2020-09-26 08:06:26,799 : INFO : EPOCH 1 - PROGRESS: at 43.78% examples, 63251 words/s, in_qsize 7, out_qsize 0\n",
            "2020-09-26 08:06:27,901 : INFO : EPOCH 1 - PROGRESS: at 44.62% examples, 63339 words/s, in_qsize 7, out_qsize 0\n",
            "2020-09-26 08:06:28,950 : INFO : EPOCH 1 - PROGRESS: at 45.50% examples, 63473 words/s, in_qsize 7, out_qsize 0\n",
            "2020-09-26 08:06:30,027 : INFO : EPOCH 1 - PROGRESS: at 46.40% examples, 63554 words/s, in_qsize 7, out_qsize 0\n",
            "2020-09-26 08:06:31,102 : INFO : EPOCH 1 - PROGRESS: at 47.29% examples, 63653 words/s, in_qsize 7, out_qsize 0\n",
            "2020-09-26 08:06:32,232 : INFO : EPOCH 1 - PROGRESS: at 48.13% examples, 63696 words/s, in_qsize 7, out_qsize 0\n",
            "2020-09-26 08:06:33,383 : INFO : EPOCH 1 - PROGRESS: at 49.03% examples, 63714 words/s, in_qsize 7, out_qsize 0\n",
            "2020-09-26 08:06:34,462 : INFO : EPOCH 1 - PROGRESS: at 49.92% examples, 63808 words/s, in_qsize 7, out_qsize 0\n",
            "2020-09-26 08:06:35,481 : INFO : EPOCH 1 - PROGRESS: at 50.89% examples, 63947 words/s, in_qsize 7, out_qsize 0\n",
            "2020-09-26 08:06:36,486 : INFO : EPOCH 1 - PROGRESS: at 51.59% examples, 63964 words/s, in_qsize 7, out_qsize 0\n",
            "2020-09-26 08:06:37,736 : INFO : EPOCH 1 - PROGRESS: at 52.55% examples, 64002 words/s, in_qsize 7, out_qsize 0\n",
            "2020-09-26 08:06:38,843 : INFO : EPOCH 1 - PROGRESS: at 53.44% examples, 64059 words/s, in_qsize 7, out_qsize 0\n",
            "2020-09-26 08:06:39,955 : INFO : EPOCH 1 - PROGRESS: at 54.30% examples, 64102 words/s, in_qsize 8, out_qsize 0\n",
            "2020-09-26 08:06:41,053 : INFO : EPOCH 1 - PROGRESS: at 55.18% examples, 64146 words/s, in_qsize 7, out_qsize 0\n",
            "2020-09-26 08:06:42,121 : INFO : EPOCH 1 - PROGRESS: at 56.10% examples, 64241 words/s, in_qsize 8, out_qsize 0\n",
            "2020-09-26 08:06:43,259 : INFO : EPOCH 1 - PROGRESS: at 56.94% examples, 64239 words/s, in_qsize 7, out_qsize 0\n",
            "2020-09-26 08:06:44,347 : INFO : EPOCH 1 - PROGRESS: at 57.89% examples, 64292 words/s, in_qsize 7, out_qsize 0\n",
            "2020-09-26 08:06:45,400 : INFO : EPOCH 1 - PROGRESS: at 58.84% examples, 64382 words/s, in_qsize 7, out_qsize 0\n",
            "2020-09-26 08:06:46,459 : INFO : EPOCH 1 - PROGRESS: at 59.73% examples, 64463 words/s, in_qsize 7, out_qsize 0\n",
            "2020-09-26 08:06:47,561 : INFO : EPOCH 1 - PROGRESS: at 60.59% examples, 64500 words/s, in_qsize 7, out_qsize 0\n",
            "2020-09-26 08:06:48,609 : INFO : EPOCH 1 - PROGRESS: at 61.56% examples, 64590 words/s, in_qsize 7, out_qsize 0\n",
            "2020-09-26 08:06:49,680 : INFO : EPOCH 1 - PROGRESS: at 62.48% examples, 64659 words/s, in_qsize 7, out_qsize 0\n",
            "2020-09-26 08:06:51,093 : INFO : EPOCH 1 - PROGRESS: at 63.46% examples, 64553 words/s, in_qsize 7, out_qsize 0\n",
            "2020-09-26 08:06:52,162 : INFO : EPOCH 1 - PROGRESS: at 64.39% examples, 64612 words/s, in_qsize 7, out_qsize 0\n",
            "2020-09-26 08:06:53,281 : INFO : EPOCH 1 - PROGRESS: at 65.24% examples, 64644 words/s, in_qsize 7, out_qsize 0\n",
            "2020-09-26 08:06:54,402 : INFO : EPOCH 1 - PROGRESS: at 66.12% examples, 64649 words/s, in_qsize 7, out_qsize 0\n",
            "2020-09-26 08:06:55,441 : INFO : EPOCH 1 - PROGRESS: at 67.00% examples, 64732 words/s, in_qsize 7, out_qsize 0\n",
            "2020-09-26 08:06:56,445 : INFO : EPOCH 1 - PROGRESS: at 67.97% examples, 64845 words/s, in_qsize 7, out_qsize 0\n",
            "2020-09-26 08:06:57,587 : INFO : EPOCH 1 - PROGRESS: at 68.83% examples, 64850 words/s, in_qsize 7, out_qsize 0\n",
            "2020-09-26 08:06:58,650 : INFO : EPOCH 1 - PROGRESS: at 69.77% examples, 64901 words/s, in_qsize 7, out_qsize 0\n",
            "2020-09-26 08:06:59,651 : INFO : EPOCH 1 - PROGRESS: at 70.63% examples, 64985 words/s, in_qsize 7, out_qsize 0\n",
            "2020-09-26 08:07:00,724 : INFO : EPOCH 1 - PROGRESS: at 71.50% examples, 65025 words/s, in_qsize 7, out_qsize 0\n",
            "2020-09-26 08:07:01,836 : INFO : EPOCH 1 - PROGRESS: at 72.40% examples, 65053 words/s, in_qsize 7, out_qsize 0\n",
            "2020-09-26 08:07:02,901 : INFO : EPOCH 1 - PROGRESS: at 73.34% examples, 65105 words/s, in_qsize 7, out_qsize 0\n",
            "2020-09-26 08:07:04,060 : INFO : EPOCH 1 - PROGRESS: at 74.24% examples, 65096 words/s, in_qsize 7, out_qsize 0\n",
            "2020-09-26 08:07:05,166 : INFO : EPOCH 1 - PROGRESS: at 75.12% examples, 65121 words/s, in_qsize 7, out_qsize 0\n",
            "2020-09-26 08:07:06,225 : INFO : EPOCH 1 - PROGRESS: at 76.04% examples, 65179 words/s, in_qsize 7, out_qsize 0\n",
            "2020-09-26 08:07:07,344 : INFO : EPOCH 1 - PROGRESS: at 76.91% examples, 65197 words/s, in_qsize 7, out_qsize 0\n",
            "2020-09-26 08:07:08,419 : INFO : EPOCH 1 - PROGRESS: at 77.84% examples, 65244 words/s, in_qsize 7, out_qsize 0\n",
            "2020-09-26 08:07:09,498 : INFO : EPOCH 1 - PROGRESS: at 78.75% examples, 65281 words/s, in_qsize 7, out_qsize 0\n",
            "2020-09-26 08:07:10,610 : INFO : EPOCH 1 - PROGRESS: at 79.65% examples, 65292 words/s, in_qsize 7, out_qsize 0\n",
            "2020-09-26 08:07:11,645 : INFO : EPOCH 1 - PROGRESS: at 80.61% examples, 65363 words/s, in_qsize 7, out_qsize 0\n",
            "2020-09-26 08:07:12,765 : INFO : EPOCH 1 - PROGRESS: at 81.55% examples, 65382 words/s, in_qsize 7, out_qsize 0\n",
            "2020-09-26 08:07:13,820 : INFO : EPOCH 1 - PROGRESS: at 82.44% examples, 65425 words/s, in_qsize 7, out_qsize 0\n",
            "2020-09-26 08:07:14,854 : INFO : EPOCH 1 - PROGRESS: at 83.35% examples, 65492 words/s, in_qsize 7, out_qsize 0\n",
            "2020-09-26 08:07:15,948 : INFO : EPOCH 1 - PROGRESS: at 84.10% examples, 65428 words/s, in_qsize 7, out_qsize 0\n",
            "2020-09-26 08:07:17,012 : INFO : EPOCH 1 - PROGRESS: at 85.09% examples, 65541 words/s, in_qsize 7, out_qsize 0\n",
            "2020-09-26 08:07:18,089 : INFO : EPOCH 1 - PROGRESS: at 85.99% examples, 65581 words/s, in_qsize 8, out_qsize 0\n",
            "2020-09-26 08:07:19,095 : INFO : EPOCH 1 - PROGRESS: at 86.75% examples, 65565 words/s, in_qsize 7, out_qsize 0\n",
            "2020-09-26 08:07:20,141 : INFO : EPOCH 1 - PROGRESS: at 87.74% examples, 65620 words/s, in_qsize 7, out_qsize 0\n",
            "2020-09-26 08:07:21,184 : INFO : EPOCH 1 - PROGRESS: at 88.63% examples, 65667 words/s, in_qsize 7, out_qsize 0\n",
            "2020-09-26 08:07:22,260 : INFO : EPOCH 1 - PROGRESS: at 89.46% examples, 65694 words/s, in_qsize 8, out_qsize 0\n",
            "2020-09-26 08:07:23,330 : INFO : EPOCH 1 - PROGRESS: at 90.38% examples, 65721 words/s, in_qsize 8, out_qsize 0\n",
            "2020-09-26 08:07:24,403 : INFO : EPOCH 1 - PROGRESS: at 91.33% examples, 65753 words/s, in_qsize 8, out_qsize 0\n",
            "2020-09-26 08:07:25,479 : INFO : EPOCH 1 - PROGRESS: at 92.27% examples, 65782 words/s, in_qsize 7, out_qsize 0\n",
            "2020-09-26 08:07:26,562 : INFO : EPOCH 1 - PROGRESS: at 93.22% examples, 65812 words/s, in_qsize 7, out_qsize 0\n",
            "2020-09-26 08:07:27,664 : INFO : EPOCH 1 - PROGRESS: at 94.12% examples, 65826 words/s, in_qsize 7, out_qsize 0\n",
            "2020-09-26 08:07:28,735 : INFO : EPOCH 1 - PROGRESS: at 94.98% examples, 65866 words/s, in_qsize 7, out_qsize 0\n",
            "2020-09-26 08:07:29,802 : INFO : EPOCH 1 - PROGRESS: at 95.90% examples, 65895 words/s, in_qsize 7, out_qsize 0\n",
            "2020-09-26 08:07:30,919 : INFO : EPOCH 1 - PROGRESS: at 96.85% examples, 65902 words/s, in_qsize 8, out_qsize 0\n",
            "2020-09-26 08:07:31,957 : INFO : EPOCH 1 - PROGRESS: at 97.61% examples, 65874 words/s, in_qsize 7, out_qsize 0\n",
            "2020-09-26 08:07:33,007 : INFO : EPOCH 1 - PROGRESS: at 98.54% examples, 65912 words/s, in_qsize 7, out_qsize 0\n",
            "2020-09-26 08:07:34,007 : INFO : EPOCH 1 - PROGRESS: at 99.40% examples, 65981 words/s, in_qsize 5, out_qsize 0\n",
            "2020-09-26 08:07:34,385 : INFO : worker thread finished; awaiting finish of 3 more threads\n",
            "2020-09-26 08:07:34,469 : INFO : worker thread finished; awaiting finish of 2 more threads\n",
            "2020-09-26 08:07:34,500 : INFO : worker thread finished; awaiting finish of 1 more threads\n",
            "2020-09-26 08:07:34,574 : INFO : worker thread finished; awaiting finish of 0 more threads\n",
            "2020-09-26 08:07:34,575 : INFO : EPOCH - 1 : training on 8639353 raw words (8166318 effective words) took 123.6s, 66049 effective words/s\n",
            "2020-09-26 08:07:35,662 : INFO : EPOCH 2 - PROGRESS: at 0.64% examples, 43398 words/s, in_qsize 7, out_qsize 0\n",
            "2020-09-26 08:07:36,795 : INFO : EPOCH 2 - PROGRESS: at 1.68% examples, 58959 words/s, in_qsize 7, out_qsize 0\n",
            "2020-09-26 08:07:37,864 : INFO : EPOCH 2 - PROGRESS: at 2.62% examples, 62492 words/s, in_qsize 7, out_qsize 0\n",
            "2020-09-26 08:07:38,956 : INFO : EPOCH 2 - PROGRESS: at 3.56% examples, 64074 words/s, in_qsize 7, out_qsize 0\n",
            "2020-09-26 08:07:39,967 : INFO : EPOCH 2 - PROGRESS: at 4.45% examples, 65628 words/s, in_qsize 8, out_qsize 0\n",
            "2020-09-26 08:07:40,974 : INFO : EPOCH 2 - PROGRESS: at 5.28% examples, 65385 words/s, in_qsize 7, out_qsize 0\n",
            "2020-09-26 08:07:42,054 : INFO : EPOCH 2 - PROGRESS: at 6.30% examples, 65933 words/s, in_qsize 7, out_qsize 0\n",
            "2020-09-26 08:07:43,126 : INFO : EPOCH 2 - PROGRESS: at 7.20% examples, 66365 words/s, in_qsize 8, out_qsize 0\n",
            "2020-09-26 08:07:44,223 : INFO : EPOCH 2 - PROGRESS: at 8.19% examples, 66611 words/s, in_qsize 8, out_qsize 0\n",
            "2020-09-26 08:07:45,359 : INFO : EPOCH 2 - PROGRESS: at 9.13% examples, 66516 words/s, in_qsize 7, out_qsize 0\n",
            "2020-09-26 08:07:46,452 : INFO : EPOCH 2 - PROGRESS: at 10.05% examples, 66378 words/s, in_qsize 7, out_qsize 0\n",
            "2020-09-26 08:07:47,513 : INFO : EPOCH 2 - PROGRESS: at 11.01% examples, 66686 words/s, in_qsize 7, out_qsize 0\n",
            "2020-09-26 08:07:48,582 : INFO : EPOCH 2 - PROGRESS: at 11.92% examples, 66897 words/s, in_qsize 8, out_qsize 0\n",
            "2020-09-26 08:07:49,809 : INFO : EPOCH 2 - PROGRESS: at 12.96% examples, 66991 words/s, in_qsize 7, out_qsize 0\n",
            "2020-09-26 08:07:51,054 : INFO : EPOCH 2 - PROGRESS: at 14.03% examples, 67007 words/s, in_qsize 7, out_qsize 0\n",
            "2020-09-26 08:07:52,212 : INFO : EPOCH 2 - PROGRESS: at 15.15% examples, 67882 words/s, in_qsize 7, out_qsize 0\n",
            "2020-09-26 08:07:53,241 : INFO : EPOCH 2 - PROGRESS: at 15.80% examples, 67109 words/s, in_qsize 7, out_qsize 0\n",
            "2020-09-26 08:07:54,287 : INFO : EPOCH 2 - PROGRESS: at 16.68% examples, 67302 words/s, in_qsize 7, out_qsize 0\n",
            "2020-09-26 08:07:55,311 : INFO : EPOCH 2 - PROGRESS: at 17.62% examples, 67577 words/s, in_qsize 8, out_qsize 0\n",
            "2020-09-26 08:07:56,400 : INFO : EPOCH 2 - PROGRESS: at 18.54% examples, 67626 words/s, in_qsize 7, out_qsize 0\n",
            "2020-09-26 08:07:57,463 : INFO : EPOCH 2 - PROGRESS: at 19.46% examples, 67737 words/s, in_qsize 7, out_qsize 0\n",
            "2020-09-26 08:07:58,555 : INFO : EPOCH 2 - PROGRESS: at 20.41% examples, 67764 words/s, in_qsize 8, out_qsize 0\n",
            "2020-09-26 08:07:59,607 : INFO : EPOCH 2 - PROGRESS: at 21.35% examples, 67858 words/s, in_qsize 7, out_qsize 0\n",
            "2020-09-26 08:08:00,706 : INFO : EPOCH 2 - PROGRESS: at 22.27% examples, 67863 words/s, in_qsize 7, out_qsize 0\n",
            "2020-09-26 08:08:01,845 : INFO : EPOCH 2 - PROGRESS: at 23.11% examples, 67763 words/s, in_qsize 7, out_qsize 0\n",
            "2020-09-26 08:08:02,962 : INFO : EPOCH 2 - PROGRESS: at 24.04% examples, 67695 words/s, in_qsize 7, out_qsize 0\n",
            "2020-09-26 08:08:04,003 : INFO : EPOCH 2 - PROGRESS: at 24.96% examples, 67782 words/s, in_qsize 7, out_qsize 0\n",
            "2020-09-26 08:08:05,291 : INFO : EPOCH 2 - PROGRESS: at 25.86% examples, 67518 words/s, in_qsize 8, out_qsize 0\n",
            "2020-09-26 08:08:06,386 : INFO : EPOCH 2 - PROGRESS: at 26.96% examples, 67721 words/s, in_qsize 7, out_qsize 0\n",
            "2020-09-26 08:08:07,462 : INFO : EPOCH 2 - PROGRESS: at 27.84% examples, 67759 words/s, in_qsize 7, out_qsize 0\n",
            "2020-09-26 08:08:08,509 : INFO : EPOCH 2 - PROGRESS: at 28.74% examples, 67860 words/s, in_qsize 7, out_qsize 0\n",
            "2020-09-26 08:08:09,713 : INFO : EPOCH 2 - PROGRESS: at 29.77% examples, 67909 words/s, in_qsize 7, out_qsize 0\n",
            "2020-09-26 08:08:10,824 : INFO : EPOCH 2 - PROGRESS: at 30.69% examples, 67877 words/s, in_qsize 7, out_qsize 0\n",
            "2020-09-26 08:08:11,874 : INFO : EPOCH 2 - PROGRESS: at 31.66% examples, 67971 words/s, in_qsize 7, out_qsize 0\n",
            "2020-09-26 08:08:12,957 : INFO : EPOCH 2 - PROGRESS: at 32.53% examples, 67981 words/s, in_qsize 7, out_qsize 0\n",
            "2020-09-26 08:08:14,021 : INFO : EPOCH 2 - PROGRESS: at 33.44% examples, 68037 words/s, in_qsize 7, out_qsize 0\n",
            "2020-09-26 08:08:15,139 : INFO : EPOCH 2 - PROGRESS: at 34.34% examples, 67989 words/s, in_qsize 7, out_qsize 0\n",
            "2020-09-26 08:08:16,248 : INFO : EPOCH 2 - PROGRESS: at 35.26% examples, 67955 words/s, in_qsize 7, out_qsize 0\n",
            "2020-09-26 08:08:17,309 : INFO : EPOCH 2 - PROGRESS: at 36.18% examples, 68010 words/s, in_qsize 7, out_qsize 0\n",
            "2020-09-26 08:08:18,344 : INFO : EPOCH 2 - PROGRESS: at 37.05% examples, 68077 words/s, in_qsize 7, out_qsize 0\n",
            "2020-09-26 08:08:19,378 : INFO : EPOCH 2 - PROGRESS: at 37.88% examples, 67971 words/s, in_qsize 7, out_qsize 0\n",
            "2020-09-26 08:08:20,440 : INFO : EPOCH 2 - PROGRESS: at 38.76% examples, 68019 words/s, in_qsize 8, out_qsize 0\n",
            "2020-09-26 08:08:21,477 : INFO : EPOCH 2 - PROGRESS: at 39.58% examples, 68067 words/s, in_qsize 7, out_qsize 0\n",
            "2020-09-26 08:08:22,562 : INFO : EPOCH 2 - PROGRESS: at 40.48% examples, 68092 words/s, in_qsize 7, out_qsize 0\n",
            "2020-09-26 08:08:23,631 : INFO : EPOCH 2 - PROGRESS: at 41.45% examples, 68100 words/s, in_qsize 7, out_qsize 0\n",
            "2020-09-26 08:08:24,735 : INFO : EPOCH 2 - PROGRESS: at 42.37% examples, 68085 words/s, in_qsize 7, out_qsize 0\n",
            "2020-09-26 08:08:25,865 : INFO : EPOCH 2 - PROGRESS: at 43.22% examples, 68005 words/s, in_qsize 7, out_qsize 0\n",
            "2020-09-26 08:08:27,018 : INFO : EPOCH 2 - PROGRESS: at 44.06% examples, 67922 words/s, in_qsize 7, out_qsize 0\n",
            "2020-09-26 08:08:28,129 : INFO : EPOCH 2 - PROGRESS: at 44.96% examples, 67911 words/s, in_qsize 7, out_qsize 0\n",
            "2020-09-26 08:08:29,171 : INFO : EPOCH 2 - PROGRESS: at 45.82% examples, 67963 words/s, in_qsize 8, out_qsize 0\n",
            "2020-09-26 08:08:30,262 : INFO : EPOCH 2 - PROGRESS: at 46.72% examples, 67956 words/s, in_qsize 7, out_qsize 0\n",
            "2020-09-26 08:08:31,323 : INFO : EPOCH 2 - PROGRESS: at 47.58% examples, 67992 words/s, in_qsize 7, out_qsize 0\n",
            "2020-09-26 08:08:32,455 : INFO : EPOCH 2 - PROGRESS: at 48.48% examples, 67955 words/s, in_qsize 7, out_qsize 0\n",
            "2020-09-26 08:08:33,547 : INFO : EPOCH 2 - PROGRESS: at 49.35% examples, 67958 words/s, in_qsize 7, out_qsize 0\n",
            "2020-09-26 08:08:34,692 : INFO : EPOCH 2 - PROGRESS: at 50.28% examples, 67902 words/s, in_qsize 6, out_qsize 1\n",
            "2020-09-26 08:08:35,759 : INFO : EPOCH 2 - PROGRESS: at 51.13% examples, 67938 words/s, in_qsize 7, out_qsize 0\n",
            "2020-09-26 08:08:36,874 : INFO : EPOCH 2 - PROGRESS: at 52.02% examples, 67909 words/s, in_qsize 7, out_qsize 0\n",
            "2020-09-26 08:08:38,090 : INFO : EPOCH 2 - PROGRESS: at 53.02% examples, 67920 words/s, in_qsize 7, out_qsize 0\n",
            "2020-09-26 08:08:39,159 : INFO : EPOCH 2 - PROGRESS: at 53.89% examples, 67926 words/s, in_qsize 7, out_qsize 0\n",
            "2020-09-26 08:08:40,274 : INFO : EPOCH 2 - PROGRESS: at 54.76% examples, 67911 words/s, in_qsize 7, out_qsize 0\n",
            "2020-09-26 08:08:41,322 : INFO : EPOCH 2 - PROGRESS: at 55.63% examples, 67952 words/s, in_qsize 7, out_qsize 0\n",
            "2020-09-26 08:08:42,488 : INFO : EPOCH 2 - PROGRESS: at 56.52% examples, 67879 words/s, in_qsize 7, out_qsize 0\n",
            "2020-09-26 08:08:43,593 : INFO : EPOCH 2 - PROGRESS: at 57.44% examples, 67859 words/s, in_qsize 8, out_qsize 0\n",
            "2020-09-26 08:08:44,690 : INFO : EPOCH 2 - PROGRESS: at 58.36% examples, 67858 words/s, in_qsize 7, out_qsize 0\n",
            "2020-09-26 08:08:45,716 : INFO : EPOCH 2 - PROGRESS: at 59.30% examples, 67929 words/s, in_qsize 7, out_qsize 0\n",
            "2020-09-26 08:08:46,776 : INFO : EPOCH 2 - PROGRESS: at 60.16% examples, 67951 words/s, in_qsize 7, out_qsize 0\n",
            "2020-09-26 08:08:47,934 : INFO : EPOCH 2 - PROGRESS: at 61.08% examples, 67893 words/s, in_qsize 7, out_qsize 0\n",
            "2020-09-26 08:08:49,018 : INFO : EPOCH 2 - PROGRESS: at 62.03% examples, 67911 words/s, in_qsize 7, out_qsize 0\n",
            "2020-09-26 08:08:50,122 : INFO : EPOCH 2 - PROGRESS: at 62.89% examples, 67901 words/s, in_qsize 8, out_qsize 0\n",
            "2020-09-26 08:08:51,167 : INFO : EPOCH 2 - PROGRESS: at 63.92% examples, 68049 words/s, in_qsize 8, out_qsize 0\n",
            "2020-09-26 08:08:52,244 : INFO : EPOCH 2 - PROGRESS: at 64.72% examples, 67948 words/s, in_qsize 7, out_qsize 0\n",
            "2020-09-26 08:08:53,404 : INFO : EPOCH 2 - PROGRESS: at 65.54% examples, 67879 words/s, in_qsize 7, out_qsize 0\n",
            "2020-09-26 08:08:54,472 : INFO : EPOCH 2 - PROGRESS: at 66.45% examples, 67900 words/s, in_qsize 8, out_qsize 1\n",
            "2020-09-26 08:08:55,522 : INFO : EPOCH 2 - PROGRESS: at 67.37% examples, 67933 words/s, in_qsize 6, out_qsize 1\n",
            "2020-09-26 08:08:56,615 : INFO : EPOCH 2 - PROGRESS: at 68.29% examples, 67938 words/s, in_qsize 8, out_qsize 0\n",
            "2020-09-26 08:08:57,659 : INFO : EPOCH 2 - PROGRESS: at 69.31% examples, 68089 words/s, in_qsize 7, out_qsize 0\n",
            "2020-09-26 08:08:58,667 : INFO : EPOCH 2 - PROGRESS: at 70.06% examples, 68039 words/s, in_qsize 7, out_qsize 0\n",
            "2020-09-26 08:08:59,698 : INFO : EPOCH 2 - PROGRESS: at 70.86% examples, 67953 words/s, in_qsize 6, out_qsize 1\n",
            "2020-09-26 08:09:00,784 : INFO : EPOCH 2 - PROGRESS: at 71.72% examples, 67954 words/s, in_qsize 7, out_qsize 0\n",
            "2020-09-26 08:09:01,853 : INFO : EPOCH 2 - PROGRESS: at 72.64% examples, 67978 words/s, in_qsize 7, out_qsize 0\n",
            "2020-09-26 08:09:02,931 : INFO : EPOCH 2 - PROGRESS: at 73.58% examples, 67987 words/s, in_qsize 7, out_qsize 0\n",
            "2020-09-26 08:09:03,993 : INFO : EPOCH 2 - PROGRESS: at 74.51% examples, 68015 words/s, in_qsize 7, out_qsize 0\n",
            "2020-09-26 08:09:05,106 : INFO : EPOCH 2 - PROGRESS: at 75.30% examples, 68000 words/s, in_qsize 7, out_qsize 0\n",
            "2020-09-26 08:09:06,213 : INFO : EPOCH 2 - PROGRESS: at 76.25% examples, 67992 words/s, in_qsize 7, out_qsize 0\n",
            "2020-09-26 08:09:07,289 : INFO : EPOCH 2 - PROGRESS: at 77.16% examples, 68007 words/s, in_qsize 8, out_qsize 0\n",
            "2020-09-26 08:09:08,453 : INFO : EPOCH 2 - PROGRESS: at 78.06% examples, 67955 words/s, in_qsize 7, out_qsize 0\n",
            "2020-09-26 08:09:09,558 : INFO : EPOCH 2 - PROGRESS: at 78.96% examples, 67948 words/s, in_qsize 8, out_qsize 0\n",
            "2020-09-26 08:09:10,613 : INFO : EPOCH 2 - PROGRESS: at 79.88% examples, 67970 words/s, in_qsize 7, out_qsize 0\n",
            "2020-09-26 08:09:11,658 : INFO : EPOCH 2 - PROGRESS: at 80.84% examples, 68008 words/s, in_qsize 7, out_qsize 0\n",
            "2020-09-26 08:09:12,720 : INFO : EPOCH 2 - PROGRESS: at 81.76% examples, 68027 words/s, in_qsize 8, out_qsize 0\n",
            "2020-09-26 08:09:13,821 : INFO : EPOCH 2 - PROGRESS: at 82.68% examples, 68024 words/s, in_qsize 7, out_qsize 0\n",
            "2020-09-26 08:09:14,903 : INFO : EPOCH 2 - PROGRESS: at 83.58% examples, 68044 words/s, in_qsize 7, out_qsize 0\n",
            "2020-09-26 08:09:16,043 : INFO : EPOCH 2 - PROGRESS: at 84.43% examples, 67996 words/s, in_qsize 7, out_qsize 0\n",
            "2020-09-26 08:09:17,074 : INFO : EPOCH 2 - PROGRESS: at 85.29% examples, 68015 words/s, in_qsize 7, out_qsize 0\n",
            "2020-09-26 08:09:18,171 : INFO : EPOCH 2 - PROGRESS: at 86.20% examples, 68010 words/s, in_qsize 7, out_qsize 0\n",
            "2020-09-26 08:09:19,283 : INFO : EPOCH 2 - PROGRESS: at 87.14% examples, 67999 words/s, in_qsize 7, out_qsize 0\n",
            "2020-09-26 08:09:20,332 : INFO : EPOCH 2 - PROGRESS: at 88.02% examples, 68016 words/s, in_qsize 7, out_qsize 0\n",
            "2020-09-26 08:09:21,431 : INFO : EPOCH 2 - PROGRESS: at 88.96% examples, 68007 words/s, in_qsize 7, out_qsize 0\n",
            "2020-09-26 08:09:22,480 : INFO : EPOCH 2 - PROGRESS: at 89.85% examples, 68031 words/s, in_qsize 7, out_qsize 0\n",
            "2020-09-26 08:09:23,578 : INFO : EPOCH 2 - PROGRESS: at 90.73% examples, 68019 words/s, in_qsize 7, out_qsize 0\n",
            "2020-09-26 08:09:24,641 : INFO : EPOCH 2 - PROGRESS: at 91.67% examples, 68040 words/s, in_qsize 7, out_qsize 0\n",
            "2020-09-26 08:09:25,803 : INFO : EPOCH 2 - PROGRESS: at 92.64% examples, 67994 words/s, in_qsize 7, out_qsize 0\n",
            "2020-09-26 08:09:26,927 : INFO : EPOCH 2 - PROGRESS: at 93.71% examples, 68064 words/s, in_qsize 7, out_qsize 0\n",
            "2020-09-26 08:09:27,965 : INFO : EPOCH 2 - PROGRESS: at 94.58% examples, 68098 words/s, in_qsize 8, out_qsize 0\n",
            "2020-09-26 08:09:29,083 : INFO : EPOCH 2 - PROGRESS: at 95.46% examples, 68084 words/s, in_qsize 7, out_qsize 0\n",
            "2020-09-26 08:09:30,394 : INFO : EPOCH 2 - PROGRESS: at 96.52% examples, 68037 words/s, in_qsize 7, out_qsize 0\n",
            "2020-09-26 08:09:31,456 : INFO : EPOCH 2 - PROGRESS: at 97.41% examples, 68058 words/s, in_qsize 7, out_qsize 0\n",
            "2020-09-26 08:09:32,539 : INFO : EPOCH 2 - PROGRESS: at 98.43% examples, 68141 words/s, in_qsize 7, out_qsize 0\n",
            "2020-09-26 08:09:33,592 : INFO : EPOCH 2 - PROGRESS: at 99.29% examples, 68161 words/s, in_qsize 6, out_qsize 0\n",
            "2020-09-26 08:09:34,031 : INFO : worker thread finished; awaiting finish of 3 more threads\n",
            "2020-09-26 08:09:34,097 : INFO : worker thread finished; awaiting finish of 2 more threads\n",
            "2020-09-26 08:09:34,160 : INFO : worker thread finished; awaiting finish of 1 more threads\n",
            "2020-09-26 08:09:34,198 : INFO : worker thread finished; awaiting finish of 0 more threads\n",
            "2020-09-26 08:09:34,199 : INFO : EPOCH - 2 : training on 8639353 raw words (8166910 effective words) took 119.6s, 68275 effective words/s\n",
            "2020-09-26 08:09:35,222 : INFO : EPOCH 3 - PROGRESS: at 0.62% examples, 46207 words/s, in_qsize 8, out_qsize 0\n",
            "2020-09-26 08:09:36,227 : INFO : EPOCH 3 - PROGRESS: at 1.54% examples, 59996 words/s, in_qsize 7, out_qsize 0\n",
            "2020-09-26 08:09:37,318 : INFO : EPOCH 3 - PROGRESS: at 2.50% examples, 62933 words/s, in_qsize 7, out_qsize 0\n",
            "2020-09-26 08:09:38,340 : INFO : EPOCH 3 - PROGRESS: at 3.46% examples, 65349 words/s, in_qsize 7, out_qsize 0\n",
            "2020-09-26 08:09:39,417 : INFO : EPOCH 3 - PROGRESS: at 4.33% examples, 65883 words/s, in_qsize 6, out_qsize 1\n",
            "2020-09-26 08:09:40,481 : INFO : EPOCH 3 - PROGRESS: at 5.28% examples, 66648 words/s, in_qsize 8, out_qsize 0\n",
            "2020-09-26 08:09:41,494 : INFO : EPOCH 3 - PROGRESS: at 6.30% examples, 67639 words/s, in_qsize 7, out_qsize 0\n",
            "2020-09-26 08:09:42,559 : INFO : EPOCH 3 - PROGRESS: at 7.20% examples, 68038 words/s, in_qsize 7, out_qsize 0\n",
            "2020-09-26 08:09:43,592 : INFO : EPOCH 3 - PROGRESS: at 8.19% examples, 68315 words/s, in_qsize 7, out_qsize 0\n",
            "2020-09-26 08:09:44,762 : INFO : EPOCH 3 - PROGRESS: at 9.23% examples, 68680 words/s, in_qsize 7, out_qsize 0\n",
            "2020-09-26 08:09:45,847 : INFO : EPOCH 3 - PROGRESS: at 10.29% examples, 69286 words/s, in_qsize 6, out_qsize 1\n",
            "2020-09-26 08:09:46,908 : INFO : EPOCH 3 - PROGRESS: at 11.26% examples, 69388 words/s, in_qsize 6, out_qsize 1\n",
            "2020-09-26 08:09:48,015 : INFO : EPOCH 3 - PROGRESS: at 12.15% examples, 69182 words/s, in_qsize 7, out_qsize 0\n",
            "2020-09-26 08:09:49,058 : INFO : EPOCH 3 - PROGRESS: at 13.21% examples, 69915 words/s, in_qsize 7, out_qsize 0\n",
            "2020-09-26 08:09:50,090 : INFO : EPOCH 3 - PROGRESS: at 14.03% examples, 69570 words/s, in_qsize 7, out_qsize 0\n",
            "2020-09-26 08:09:51,130 : INFO : EPOCH 3 - PROGRESS: at 14.92% examples, 69624 words/s, in_qsize 7, out_qsize 0\n",
            "2020-09-26 08:09:52,232 : INFO : EPOCH 3 - PROGRESS: at 15.75% examples, 69478 words/s, in_qsize 7, out_qsize 0\n",
            "2020-09-26 08:09:53,329 : INFO : EPOCH 3 - PROGRESS: at 16.78% examples, 69855 words/s, in_qsize 7, out_qsize 0\n",
            "2020-09-26 08:09:54,439 : INFO : EPOCH 3 - PROGRESS: at 17.69% examples, 69695 words/s, in_qsize 7, out_qsize 0\n",
            "2020-09-26 08:09:55,487 : INFO : EPOCH 3 - PROGRESS: at 18.66% examples, 69774 words/s, in_qsize 7, out_qsize 0\n",
            "2020-09-26 08:09:56,632 : INFO : EPOCH 3 - PROGRESS: at 19.72% examples, 69951 words/s, in_qsize 8, out_qsize 0\n",
            "2020-09-26 08:09:57,744 : INFO : EPOCH 3 - PROGRESS: at 20.78% examples, 70184 words/s, in_qsize 8, out_qsize 0\n",
            "2020-09-26 08:09:58,847 : INFO : EPOCH 3 - PROGRESS: at 21.81% examples, 70437 words/s, in_qsize 7, out_qsize 0\n",
            "2020-09-26 08:10:00,033 : INFO : EPOCH 3 - PROGRESS: at 22.60% examples, 70085 words/s, in_qsize 7, out_qsize 0\n",
            "2020-09-26 08:10:01,045 : INFO : EPOCH 3 - PROGRESS: at 23.55% examples, 70189 words/s, in_qsize 8, out_qsize 0\n",
            "2020-09-26 08:10:02,094 : INFO : EPOCH 3 - PROGRESS: at 24.51% examples, 70243 words/s, in_qsize 7, out_qsize 0\n",
            "2020-09-26 08:10:03,295 : INFO : EPOCH 3 - PROGRESS: at 25.38% examples, 70003 words/s, in_qsize 7, out_qsize 0\n",
            "2020-09-26 08:10:04,320 : INFO : EPOCH 3 - PROGRESS: at 26.33% examples, 70089 words/s, in_qsize 7, out_qsize 0\n",
            "2020-09-26 08:10:05,357 : INFO : EPOCH 3 - PROGRESS: at 27.40% examples, 70333 words/s, in_qsize 7, out_qsize 0\n",
            "2020-09-26 08:10:06,405 : INFO : EPOCH 3 - PROGRESS: at 28.32% examples, 70361 words/s, in_qsize 7, out_qsize 0\n",
            "2020-09-26 08:10:07,425 : INFO : EPOCH 3 - PROGRESS: at 29.17% examples, 70435 words/s, in_qsize 7, out_qsize 0\n",
            "2020-09-26 08:10:08,672 : INFO : EPOCH 3 - PROGRESS: at 30.22% examples, 70298 words/s, in_qsize 6, out_qsize 1\n",
            "2020-09-26 08:10:09,691 : INFO : EPOCH 3 - PROGRESS: at 31.19% examples, 70376 words/s, in_qsize 7, out_qsize 0\n",
            "2020-09-26 08:10:10,695 : INFO : EPOCH 3 - PROGRESS: at 32.11% examples, 70486 words/s, in_qsize 7, out_qsize 0\n",
            "2020-09-26 08:10:11,761 : INFO : EPOCH 3 - PROGRESS: at 32.98% examples, 70460 words/s, in_qsize 7, out_qsize 0\n",
            "2020-09-26 08:10:12,823 : INFO : EPOCH 3 - PROGRESS: at 33.90% examples, 70440 words/s, in_qsize 7, out_qsize 0\n",
            "2020-09-26 08:10:13,831 : INFO : EPOCH 3 - PROGRESS: at 34.84% examples, 70530 words/s, in_qsize 7, out_qsize 0\n",
            "2020-09-26 08:10:14,859 : INFO : EPOCH 3 - PROGRESS: at 35.77% examples, 70570 words/s, in_qsize 7, out_qsize 0\n",
            "2020-09-26 08:10:15,942 : INFO : EPOCH 3 - PROGRESS: at 36.73% examples, 70714 words/s, in_qsize 7, out_qsize 0\n",
            "2020-09-26 08:10:17,113 : INFO : EPOCH 3 - PROGRESS: at 37.78% examples, 70758 words/s, in_qsize 7, out_qsize 0\n",
            "2020-09-26 08:10:18,094 : INFO : EPOCH 3 - PROGRESS: at 38.63% examples, 70846 words/s, in_qsize 8, out_qsize 0\n",
            "2020-09-26 08:10:19,175 : INFO : EPOCH 3 - PROGRESS: at 39.39% examples, 70574 words/s, in_qsize 7, out_qsize 0\n",
            "2020-09-26 08:10:20,195 : INFO : EPOCH 3 - PROGRESS: at 40.34% examples, 70820 words/s, in_qsize 7, out_qsize 0\n",
            "2020-09-26 08:10:21,314 : INFO : EPOCH 3 - PROGRESS: at 41.34% examples, 70713 words/s, in_qsize 7, out_qsize 0\n",
            "2020-09-26 08:10:22,320 : INFO : EPOCH 3 - PROGRESS: at 42.26% examples, 70778 words/s, in_qsize 7, out_qsize 0\n",
            "2020-09-26 08:10:23,485 : INFO : EPOCH 3 - PROGRESS: at 43.22% examples, 70769 words/s, in_qsize 8, out_qsize 0\n",
            "2020-09-26 08:10:24,555 : INFO : EPOCH 3 - PROGRESS: at 44.06% examples, 70737 words/s, in_qsize 8, out_qsize 0\n",
            "2020-09-26 08:10:25,578 : INFO : EPOCH 3 - PROGRESS: at 44.95% examples, 70781 words/s, in_qsize 7, out_qsize 0\n",
            "2020-09-26 08:10:26,616 : INFO : EPOCH 3 - PROGRESS: at 45.82% examples, 70788 words/s, in_qsize 7, out_qsize 0\n",
            "2020-09-26 08:10:27,644 : INFO : EPOCH 3 - PROGRESS: at 46.72% examples, 70806 words/s, in_qsize 7, out_qsize 0\n",
            "2020-09-26 08:10:28,673 : INFO : EPOCH 3 - PROGRESS: at 47.58% examples, 70829 words/s, in_qsize 7, out_qsize 0\n",
            "2020-09-26 08:10:29,727 : INFO : EPOCH 3 - PROGRESS: at 48.48% examples, 70833 words/s, in_qsize 7, out_qsize 0\n",
            "2020-09-26 08:10:30,779 : INFO : EPOCH 3 - PROGRESS: at 49.35% examples, 70831 words/s, in_qsize 7, out_qsize 0\n",
            "2020-09-26 08:10:31,942 : INFO : EPOCH 3 - PROGRESS: at 50.28% examples, 70693 words/s, in_qsize 6, out_qsize 1\n",
            "2020-09-26 08:10:33,030 : INFO : EPOCH 3 - PROGRESS: at 51.02% examples, 70497 words/s, in_qsize 7, out_qsize 0\n",
            "2020-09-26 08:10:34,323 : INFO : EPOCH 3 - PROGRESS: at 51.91% examples, 70215 words/s, in_qsize 7, out_qsize 0\n",
            "2020-09-26 08:10:35,376 : INFO : EPOCH 3 - PROGRESS: at 52.55% examples, 69901 words/s, in_qsize 7, out_qsize 0\n",
            "2020-09-26 08:10:36,664 : INFO : EPOCH 3 - PROGRESS: at 53.44% examples, 69639 words/s, in_qsize 7, out_qsize 0\n",
            "2020-09-26 08:10:37,702 : INFO : EPOCH 3 - PROGRESS: at 54.19% examples, 69524 words/s, in_qsize 7, out_qsize 0\n",
            "2020-09-26 08:10:38,736 : INFO : EPOCH 3 - PROGRESS: at 54.87% examples, 69280 words/s, in_qsize 7, out_qsize 0\n",
            "2020-09-26 08:10:39,753 : INFO : EPOCH 3 - PROGRESS: at 55.75% examples, 69334 words/s, in_qsize 8, out_qsize 0\n",
            "2020-09-26 08:10:40,794 : INFO : EPOCH 3 - PROGRESS: at 56.63% examples, 69361 words/s, in_qsize 7, out_qsize 0\n",
            "2020-09-26 08:10:41,800 : INFO : EPOCH 3 - PROGRESS: at 57.54% examples, 69419 words/s, in_qsize 7, out_qsize 0\n",
            "2020-09-26 08:10:42,871 : INFO : EPOCH 3 - PROGRESS: at 58.46% examples, 69421 words/s, in_qsize 7, out_qsize 0\n",
            "2020-09-26 08:10:43,941 : INFO : EPOCH 3 - PROGRESS: at 59.42% examples, 69427 words/s, in_qsize 7, out_qsize 0\n",
            "2020-09-26 08:10:45,020 : INFO : EPOCH 3 - PROGRESS: at 60.26% examples, 69405 words/s, in_qsize 7, out_qsize 0\n",
            "2020-09-26 08:10:46,036 : INFO : EPOCH 3 - PROGRESS: at 61.20% examples, 69461 words/s, in_qsize 7, out_qsize 0\n",
            "2020-09-26 08:10:47,193 : INFO : EPOCH 3 - PROGRESS: at 62.26% examples, 69516 words/s, in_qsize 7, out_qsize 0\n",
            "2020-09-26 08:10:48,220 : INFO : EPOCH 3 - PROGRESS: at 63.12% examples, 69554 words/s, in_qsize 7, out_qsize 0\n",
            "2020-09-26 08:10:49,241 : INFO : EPOCH 3 - PROGRESS: at 64.04% examples, 69575 words/s, in_qsize 7, out_qsize 0\n",
            "2020-09-26 08:10:50,457 : INFO : EPOCH 3 - PROGRESS: at 65.04% examples, 69572 words/s, in_qsize 7, out_qsize 0\n",
            "2020-09-26 08:10:51,549 : INFO : EPOCH 3 - PROGRESS: at 65.99% examples, 69658 words/s, in_qsize 7, out_qsize 0\n",
            "2020-09-26 08:10:52,641 : INFO : EPOCH 3 - PROGRESS: at 66.88% examples, 69628 words/s, in_qsize 7, out_qsize 0\n",
            "2020-09-26 08:10:53,656 : INFO : EPOCH 3 - PROGRESS: at 67.85% examples, 69680 words/s, in_qsize 7, out_qsize 0\n",
            "2020-09-26 08:10:54,656 : INFO : EPOCH 3 - PROGRESS: at 68.75% examples, 69735 words/s, in_qsize 7, out_qsize 0\n",
            "2020-09-26 08:10:55,667 : INFO : EPOCH 3 - PROGRESS: at 69.66% examples, 69778 words/s, in_qsize 7, out_qsize 0\n",
            "2020-09-26 08:10:56,679 : INFO : EPOCH 3 - PROGRESS: at 70.52% examples, 69815 words/s, in_qsize 7, out_qsize 0\n",
            "2020-09-26 08:10:57,824 : INFO : EPOCH 3 - PROGRESS: at 71.50% examples, 69829 words/s, in_qsize 6, out_qsize 1\n",
            "2020-09-26 08:10:58,846 : INFO : EPOCH 3 - PROGRESS: at 72.51% examples, 69978 words/s, in_qsize 7, out_qsize 0\n",
            "2020-09-26 08:10:59,883 : INFO : EPOCH 3 - PROGRESS: at 73.44% examples, 69995 words/s, in_qsize 7, out_qsize 0\n",
            "2020-09-26 08:11:00,907 : INFO : EPOCH 3 - PROGRESS: at 74.38% examples, 70030 words/s, in_qsize 7, out_qsize 0\n",
            "2020-09-26 08:11:01,945 : INFO : EPOCH 3 - PROGRESS: at 75.12% examples, 69943 words/s, in_qsize 7, out_qsize 0\n",
            "2020-09-26 08:11:02,952 : INFO : EPOCH 3 - PROGRESS: at 75.90% examples, 69883 words/s, in_qsize 7, out_qsize 0\n",
            "2020-09-26 08:11:04,027 : INFO : EPOCH 3 - PROGRESS: at 76.79% examples, 69878 words/s, in_qsize 7, out_qsize 0\n",
            "2020-09-26 08:11:05,087 : INFO : EPOCH 3 - PROGRESS: at 77.71% examples, 69885 words/s, in_qsize 7, out_qsize 0\n",
            "2020-09-26 08:11:06,135 : INFO : EPOCH 3 - PROGRESS: at 78.66% examples, 69895 words/s, in_qsize 8, out_qsize 0\n",
            "2020-09-26 08:11:07,157 : INFO : EPOCH 3 - PROGRESS: at 79.57% examples, 69917 words/s, in_qsize 7, out_qsize 0\n",
            "2020-09-26 08:11:08,212 : INFO : EPOCH 3 - PROGRESS: at 80.39% examples, 69830 words/s, in_qsize 7, out_qsize 0\n",
            "2020-09-26 08:11:09,234 : INFO : EPOCH 3 - PROGRESS: at 81.33% examples, 69861 words/s, in_qsize 7, out_qsize 0\n",
            "2020-09-26 08:11:10,254 : INFO : EPOCH 3 - PROGRESS: at 82.23% examples, 69891 words/s, in_qsize 7, out_qsize 0\n",
            "2020-09-26 08:11:11,282 : INFO : EPOCH 3 - PROGRESS: at 83.15% examples, 69921 words/s, in_qsize 7, out_qsize 0\n",
            "2020-09-26 08:11:12,322 : INFO : EPOCH 3 - PROGRESS: at 83.99% examples, 69934 words/s, in_qsize 8, out_qsize 0\n",
            "2020-09-26 08:11:13,348 : INFO : EPOCH 3 - PROGRESS: at 84.87% examples, 69949 words/s, in_qsize 7, out_qsize 0\n",
            "2020-09-26 08:11:14,430 : INFO : EPOCH 3 - PROGRESS: at 85.76% examples, 69916 words/s, in_qsize 7, out_qsize 0\n",
            "2020-09-26 08:11:15,483 : INFO : EPOCH 3 - PROGRESS: at 86.65% examples, 69929 words/s, in_qsize 7, out_qsize 0\n",
            "2020-09-26 08:11:16,505 : INFO : EPOCH 3 - PROGRESS: at 87.65% examples, 69958 words/s, in_qsize 6, out_qsize 1\n",
            "2020-09-26 08:11:17,528 : INFO : EPOCH 3 - PROGRESS: at 88.63% examples, 70061 words/s, in_qsize 7, out_qsize 0\n",
            "2020-09-26 08:11:18,534 : INFO : EPOCH 3 - PROGRESS: at 89.35% examples, 70002 words/s, in_qsize 7, out_qsize 0\n",
            "2020-09-26 08:11:19,567 : INFO : EPOCH 3 - PROGRESS: at 90.25% examples, 70014 words/s, in_qsize 7, out_qsize 0\n",
            "2020-09-26 08:11:20,599 : INFO : EPOCH 3 - PROGRESS: at 91.20% examples, 70030 words/s, in_qsize 8, out_qsize 0\n",
            "2020-09-26 08:11:21,628 : INFO : EPOCH 3 - PROGRESS: at 92.19% examples, 70053 words/s, in_qsize 7, out_qsize 0\n",
            "2020-09-26 08:11:22,683 : INFO : EPOCH 3 - PROGRESS: at 93.09% examples, 70056 words/s, in_qsize 7, out_qsize 0\n",
            "2020-09-26 08:11:23,872 : INFO : EPOCH 3 - PROGRESS: at 94.12% examples, 70067 words/s, in_qsize 7, out_qsize 0\n",
            "2020-09-26 08:11:24,899 : INFO : EPOCH 3 - PROGRESS: at 94.98% examples, 70087 words/s, in_qsize 7, out_qsize 0\n",
            "2020-09-26 08:11:25,942 : INFO : EPOCH 3 - PROGRESS: at 95.90% examples, 70101 words/s, in_qsize 7, out_qsize 0\n",
            "2020-09-26 08:11:27,175 : INFO : EPOCH 3 - PROGRESS: at 96.85% examples, 69995 words/s, in_qsize 7, out_qsize 0\n",
            "2020-09-26 08:11:28,446 : INFO : EPOCH 3 - PROGRESS: at 97.73% examples, 69867 words/s, in_qsize 7, out_qsize 0\n",
            "2020-09-26 08:11:29,652 : INFO : EPOCH 3 - PROGRESS: at 98.62% examples, 69778 words/s, in_qsize 7, out_qsize 0\n",
            "2020-09-26 08:11:30,904 : INFO : EPOCH 3 - PROGRESS: at 99.53% examples, 69666 words/s, in_qsize 4, out_qsize 0\n",
            "2020-09-26 08:11:31,063 : INFO : worker thread finished; awaiting finish of 3 more threads\n",
            "2020-09-26 08:11:31,113 : INFO : worker thread finished; awaiting finish of 2 more threads\n",
            "2020-09-26 08:11:31,135 : INFO : worker thread finished; awaiting finish of 1 more threads\n",
            "2020-09-26 08:11:31,217 : INFO : worker thread finished; awaiting finish of 0 more threads\n",
            "2020-09-26 08:11:31,218 : INFO : EPOCH - 3 : training on 8639353 raw words (8166528 effective words) took 117.0s, 69793 effective words/s\n",
            "2020-09-26 08:11:32,365 : INFO : EPOCH 4 - PROGRESS: at 0.76% examples, 49406 words/s, in_qsize 7, out_qsize 0\n",
            "2020-09-26 08:11:33,426 : INFO : EPOCH 4 - PROGRESS: at 1.68% examples, 59358 words/s, in_qsize 7, out_qsize 0\n",
            "2020-09-26 08:11:34,446 : INFO : EPOCH 4 - PROGRESS: at 2.38% examples, 57875 words/s, in_qsize 7, out_qsize 0\n",
            "2020-09-26 08:11:35,592 : INFO : EPOCH 4 - PROGRESS: at 3.22% examples, 57582 words/s, in_qsize 7, out_qsize 0\n",
            "2020-09-26 08:11:36,824 : INFO : EPOCH 4 - PROGRESS: at 4.09% examples, 57992 words/s, in_qsize 6, out_qsize 1\n",
            "2020-09-26 08:11:37,858 : INFO : EPOCH 4 - PROGRESS: at 5.05% examples, 60235 words/s, in_qsize 7, out_qsize 0\n",
            "2020-09-26 08:11:38,915 : INFO : EPOCH 4 - PROGRESS: at 6.05% examples, 61660 words/s, in_qsize 7, out_qsize 0\n",
            "2020-09-26 08:11:40,124 : INFO : EPOCH 4 - PROGRESS: at 6.96% examples, 61646 words/s, in_qsize 8, out_qsize 1\n",
            "2020-09-26 08:11:41,217 : INFO : EPOCH 4 - PROGRESS: at 7.94% examples, 62305 words/s, in_qsize 7, out_qsize 0\n",
            "2020-09-26 08:11:42,422 : INFO : EPOCH 4 - PROGRESS: at 9.02% examples, 63108 words/s, in_qsize 7, out_qsize 0\n",
            "2020-09-26 08:11:43,554 : INFO : EPOCH 4 - PROGRESS: at 9.96% examples, 63154 words/s, in_qsize 8, out_qsize 1\n",
            "2020-09-26 08:11:44,625 : INFO : EPOCH 4 - PROGRESS: at 10.88% examples, 63666 words/s, in_qsize 8, out_qsize 0\n",
            "2020-09-26 08:11:45,746 : INFO : EPOCH 4 - PROGRESS: at 11.81% examples, 63868 words/s, in_qsize 7, out_qsize 0\n",
            "2020-09-26 08:11:46,847 : INFO : EPOCH 4 - PROGRESS: at 12.73% examples, 64119 words/s, in_qsize 7, out_qsize 0\n",
            "2020-09-26 08:11:47,880 : INFO : EPOCH 4 - PROGRESS: at 13.40% examples, 63476 words/s, in_qsize 7, out_qsize 0\n",
            "2020-09-26 08:11:49,043 : INFO : EPOCH 4 - PROGRESS: at 14.36% examples, 63512 words/s, in_qsize 7, out_qsize 0\n",
            "2020-09-26 08:11:50,219 : INFO : EPOCH 4 - PROGRESS: at 15.48% examples, 64495 words/s, in_qsize 7, out_qsize 0\n",
            "2020-09-26 08:11:51,238 : INFO : EPOCH 4 - PROGRESS: at 16.35% examples, 64896 words/s, in_qsize 7, out_qsize 0\n",
            "2020-09-26 08:11:52,264 : INFO : EPOCH 4 - PROGRESS: at 17.24% examples, 65274 words/s, in_qsize 7, out_qsize 0\n",
            "2020-09-26 08:11:53,336 : INFO : EPOCH 4 - PROGRESS: at 18.17% examples, 65472 words/s, in_qsize 6, out_qsize 1\n",
            "2020-09-26 08:11:54,365 : INFO : EPOCH 4 - PROGRESS: at 19.13% examples, 65774 words/s, in_qsize 7, out_qsize 0\n",
            "2020-09-26 08:11:55,474 : INFO : EPOCH 4 - PROGRESS: at 20.19% examples, 66219 words/s, in_qsize 7, out_qsize 0\n",
            "2020-09-26 08:11:56,479 : INFO : EPOCH 4 - PROGRESS: at 21.15% examples, 66521 words/s, in_qsize 7, out_qsize 0\n",
            "2020-09-26 08:11:57,520 : INFO : EPOCH 4 - PROGRESS: at 22.04% examples, 66714 words/s, in_qsize 7, out_qsize 0\n",
            "2020-09-26 08:11:58,553 : INFO : EPOCH 4 - PROGRESS: at 22.85% examples, 66965 words/s, in_qsize 7, out_qsize 0\n",
            "2020-09-26 08:11:59,580 : INFO : EPOCH 4 - PROGRESS: at 23.80% examples, 67088 words/s, in_qsize 7, out_qsize 0\n",
            "2020-09-26 08:12:00,588 : INFO : EPOCH 4 - PROGRESS: at 24.86% examples, 67615 words/s, in_qsize 7, out_qsize 0\n",
            "2020-09-26 08:12:01,590 : INFO : EPOCH 4 - PROGRESS: at 25.49% examples, 67355 words/s, in_qsize 7, out_qsize 0\n",
            "2020-09-26 08:12:02,606 : INFO : EPOCH 4 - PROGRESS: at 26.48% examples, 67549 words/s, in_qsize 8, out_qsize 1\n",
            "2020-09-26 08:12:03,609 : INFO : EPOCH 4 - PROGRESS: at 27.40% examples, 67642 words/s, in_qsize 7, out_qsize 0\n",
            "2020-09-26 08:12:04,645 : INFO : EPOCH 4 - PROGRESS: at 28.32% examples, 67779 words/s, in_qsize 7, out_qsize 0\n",
            "2020-09-26 08:12:05,689 : INFO : EPOCH 4 - PROGRESS: at 29.17% examples, 67879 words/s, in_qsize 8, out_qsize 0\n",
            "2020-09-26 08:12:06,698 : INFO : EPOCH 4 - PROGRESS: at 30.12% examples, 68034 words/s, in_qsize 7, out_qsize 0\n",
            "2020-09-26 08:12:07,784 : INFO : EPOCH 4 - PROGRESS: at 31.19% examples, 68299 words/s, in_qsize 7, out_qsize 0\n",
            "2020-09-26 08:12:08,844 : INFO : EPOCH 4 - PROGRESS: at 32.14% examples, 68377 words/s, in_qsize 7, out_qsize 0\n",
            "2020-09-26 08:12:09,839 : INFO : EPOCH 4 - PROGRESS: at 32.99% examples, 68518 words/s, in_qsize 7, out_qsize 0\n",
            "2020-09-26 08:12:10,900 : INFO : EPOCH 4 - PROGRESS: at 33.90% examples, 68551 words/s, in_qsize 7, out_qsize 0\n",
            "2020-09-26 08:12:11,939 : INFO : EPOCH 4 - PROGRESS: at 34.84% examples, 68633 words/s, in_qsize 7, out_qsize 0\n",
            "2020-09-26 08:12:12,957 : INFO : EPOCH 4 - PROGRESS: at 35.77% examples, 68760 words/s, in_qsize 7, out_qsize 0\n",
            "2020-09-26 08:12:13,969 : INFO : EPOCH 4 - PROGRESS: at 36.61% examples, 68819 words/s, in_qsize 8, out_qsize 0\n",
            "2020-09-26 08:12:15,097 : INFO : EPOCH 4 - PROGRESS: at 37.65% examples, 68947 words/s, in_qsize 7, out_qsize 0\n",
            "2020-09-26 08:12:16,200 : INFO : EPOCH 4 - PROGRESS: at 38.54% examples, 68919 words/s, in_qsize 7, out_qsize 0\n",
            "2020-09-26 08:12:17,238 : INFO : EPOCH 4 - PROGRESS: at 39.39% examples, 68966 words/s, in_qsize 7, out_qsize 0\n",
            "2020-09-26 08:12:18,243 : INFO : EPOCH 4 - PROGRESS: at 40.23% examples, 69063 words/s, in_qsize 7, out_qsize 0\n",
            "2020-09-26 08:12:19,347 : INFO : EPOCH 4 - PROGRESS: at 41.34% examples, 69217 words/s, in_qsize 7, out_qsize 0\n",
            "2020-09-26 08:12:20,373 : INFO : EPOCH 4 - PROGRESS: at 42.26% examples, 69286 words/s, in_qsize 7, out_qsize 0\n",
            "2020-09-26 08:12:21,730 : INFO : EPOCH 4 - PROGRESS: at 43.24% examples, 69048 words/s, in_qsize 7, out_qsize 0\n",
            "2020-09-26 08:12:22,755 : INFO : EPOCH 4 - PROGRESS: at 44.06% examples, 69113 words/s, in_qsize 7, out_qsize 0\n",
            "2020-09-26 08:12:23,771 : INFO : EPOCH 4 - PROGRESS: at 44.96% examples, 69203 words/s, in_qsize 6, out_qsize 1\n",
            "2020-09-26 08:12:24,793 : INFO : EPOCH 4 - PROGRESS: at 45.82% examples, 69256 words/s, in_qsize 7, out_qsize 0\n",
            "2020-09-26 08:12:25,818 : INFO : EPOCH 4 - PROGRESS: at 46.72% examples, 69307 words/s, in_qsize 7, out_qsize 0\n",
            "2020-09-26 08:12:26,956 : INFO : EPOCH 4 - PROGRESS: at 47.71% examples, 69392 words/s, in_qsize 7, out_qsize 0\n",
            "2020-09-26 08:12:27,987 : INFO : EPOCH 4 - PROGRESS: at 48.60% examples, 69448 words/s, in_qsize 7, out_qsize 0\n",
            "2020-09-26 08:12:28,993 : INFO : EPOCH 4 - PROGRESS: at 49.48% examples, 69525 words/s, in_qsize 7, out_qsize 0\n",
            "2020-09-26 08:12:30,009 : INFO : EPOCH 4 - PROGRESS: at 50.38% examples, 69589 words/s, in_qsize 7, out_qsize 0\n",
            "2020-09-26 08:12:31,261 : INFO : EPOCH 4 - PROGRESS: at 51.36% examples, 69536 words/s, in_qsize 6, out_qsize 1\n",
            "2020-09-26 08:12:32,305 : INFO : EPOCH 4 - PROGRESS: at 52.24% examples, 69564 words/s, in_qsize 7, out_qsize 0\n",
            "2020-09-26 08:12:33,384 : INFO : EPOCH 4 - PROGRESS: at 53.13% examples, 69528 words/s, in_qsize 7, out_qsize 0\n",
            "2020-09-26 08:12:34,434 : INFO : EPOCH 4 - PROGRESS: at 53.99% examples, 69540 words/s, in_qsize 7, out_qsize 0\n",
            "2020-09-26 08:12:35,481 : INFO : EPOCH 4 - PROGRESS: at 54.87% examples, 69572 words/s, in_qsize 7, out_qsize 0\n",
            "2020-09-26 08:12:36,524 : INFO : EPOCH 4 - PROGRESS: at 55.75% examples, 69595 words/s, in_qsize 7, out_qsize 0\n",
            "2020-09-26 08:12:37,670 : INFO : EPOCH 4 - PROGRESS: at 56.74% examples, 69649 words/s, in_qsize 7, out_qsize 0\n",
            "2020-09-26 08:12:38,719 : INFO : EPOCH 4 - PROGRESS: at 57.65% examples, 69660 words/s, in_qsize 6, out_qsize 1\n",
            "2020-09-26 08:12:39,745 : INFO : EPOCH 4 - PROGRESS: at 58.57% examples, 69704 words/s, in_qsize 7, out_qsize 0\n",
            "2020-09-26 08:12:40,785 : INFO : EPOCH 4 - PROGRESS: at 59.53% examples, 69726 words/s, in_qsize 7, out_qsize 0\n",
            "2020-09-26 08:12:41,820 : INFO : EPOCH 4 - PROGRESS: at 60.37% examples, 69757 words/s, in_qsize 6, out_qsize 1\n",
            "2020-09-26 08:12:42,880 : INFO : EPOCH 4 - PROGRESS: at 61.44% examples, 69888 words/s, in_qsize 7, out_qsize 0\n",
            "2020-09-26 08:12:43,943 : INFO : EPOCH 4 - PROGRESS: at 62.37% examples, 69894 words/s, in_qsize 7, out_qsize 0\n",
            "2020-09-26 08:12:44,954 : INFO : EPOCH 4 - PROGRESS: at 63.24% examples, 69945 words/s, in_qsize 7, out_qsize 0\n",
            "2020-09-26 08:12:46,000 : INFO : EPOCH 4 - PROGRESS: at 64.13% examples, 69942 words/s, in_qsize 7, out_qsize 0\n",
            "2020-09-26 08:12:47,035 : INFO : EPOCH 4 - PROGRESS: at 65.04% examples, 69975 words/s, in_qsize 7, out_qsize 0\n",
            "2020-09-26 08:12:48,040 : INFO : EPOCH 4 - PROGRESS: at 65.87% examples, 70013 words/s, in_qsize 7, out_qsize 0\n",
            "2020-09-26 08:12:49,086 : INFO : EPOCH 4 - PROGRESS: at 66.77% examples, 70020 words/s, in_qsize 7, out_qsize 0\n",
            "2020-09-26 08:12:50,109 : INFO : EPOCH 4 - PROGRESS: at 67.72% examples, 70060 words/s, in_qsize 7, out_qsize 0\n",
            "2020-09-26 08:12:51,189 : INFO : EPOCH 4 - PROGRESS: at 68.62% examples, 70040 words/s, in_qsize 7, out_qsize 0\n",
            "2020-09-26 08:12:52,280 : INFO : EPOCH 4 - PROGRESS: at 69.54% examples, 70012 words/s, in_qsize 6, out_qsize 1\n",
            "2020-09-26 08:12:53,296 : INFO : EPOCH 4 - PROGRESS: at 70.63% examples, 70251 words/s, in_qsize 7, out_qsize 0\n",
            "2020-09-26 08:12:54,331 : INFO : EPOCH 4 - PROGRESS: at 71.50% examples, 70258 words/s, in_qsize 7, out_qsize 0\n",
            "2020-09-26 08:12:55,393 : INFO : EPOCH 4 - PROGRESS: at 72.40% examples, 70258 words/s, in_qsize 8, out_qsize 0\n",
            "2020-09-26 08:12:56,453 : INFO : EPOCH 4 - PROGRESS: at 73.44% examples, 70364 words/s, in_qsize 7, out_qsize 0\n",
            "2020-09-26 08:12:57,461 : INFO : EPOCH 4 - PROGRESS: at 74.38% examples, 70408 words/s, in_qsize 7, out_qsize 0\n",
            "2020-09-26 08:12:58,502 : INFO : EPOCH 4 - PROGRESS: at 75.12% examples, 70314 words/s, in_qsize 7, out_qsize 0\n",
            "2020-09-26 08:12:59,504 : INFO : EPOCH 4 - PROGRESS: at 76.04% examples, 70359 words/s, in_qsize 7, out_qsize 0\n",
            "2020-09-26 08:13:00,568 : INFO : EPOCH 4 - PROGRESS: at 76.79% examples, 70253 words/s, in_qsize 7, out_qsize 0\n",
            "2020-09-26 08:13:01,618 : INFO : EPOCH 4 - PROGRESS: at 77.71% examples, 70264 words/s, in_qsize 5, out_qsize 2\n",
            "2020-09-26 08:13:02,753 : INFO : EPOCH 4 - PROGRESS: at 78.75% examples, 70301 words/s, in_qsize 6, out_qsize 1\n",
            "2020-09-26 08:13:03,770 : INFO : EPOCH 4 - PROGRESS: at 79.68% examples, 70324 words/s, in_qsize 7, out_qsize 0\n",
            "2020-09-26 08:13:04,785 : INFO : EPOCH 4 - PROGRESS: at 80.61% examples, 70363 words/s, in_qsize 7, out_qsize 0\n",
            "2020-09-26 08:13:05,838 : INFO : EPOCH 4 - PROGRESS: at 81.55% examples, 70361 words/s, in_qsize 6, out_qsize 1\n",
            "2020-09-26 08:13:06,896 : INFO : EPOCH 4 - PROGRESS: at 82.46% examples, 70363 words/s, in_qsize 7, out_qsize 0\n",
            "2020-09-26 08:13:07,917 : INFO : EPOCH 4 - PROGRESS: at 83.35% examples, 70392 words/s, in_qsize 7, out_qsize 0\n",
            "2020-09-26 08:13:09,013 : INFO : EPOCH 4 - PROGRESS: at 84.22% examples, 70361 words/s, in_qsize 7, out_qsize 0\n",
            "2020-09-26 08:13:10,072 : INFO : EPOCH 4 - PROGRESS: at 85.17% examples, 70430 words/s, in_qsize 7, out_qsize 0\n",
            "2020-09-26 08:13:11,116 : INFO : EPOCH 4 - PROGRESS: at 86.11% examples, 70435 words/s, in_qsize 7, out_qsize 0\n",
            "2020-09-26 08:13:12,129 : INFO : EPOCH 4 - PROGRESS: at 86.99% examples, 70465 words/s, in_qsize 7, out_qsize 0\n",
            "2020-09-26 08:13:13,172 : INFO : EPOCH 4 - PROGRESS: at 87.93% examples, 70468 words/s, in_qsize 8, out_qsize 0\n",
            "2020-09-26 08:13:14,195 : INFO : EPOCH 4 - PROGRESS: at 88.85% examples, 70475 words/s, in_qsize 7, out_qsize 0\n",
            "2020-09-26 08:13:15,224 : INFO : EPOCH 4 - PROGRESS: at 89.70% examples, 70490 words/s, in_qsize 7, out_qsize 0\n",
            "2020-09-26 08:13:16,276 : INFO : EPOCH 4 - PROGRESS: at 90.62% examples, 70483 words/s, in_qsize 8, out_qsize 0\n",
            "2020-09-26 08:13:17,331 : INFO : EPOCH 4 - PROGRESS: at 91.55% examples, 70485 words/s, in_qsize 7, out_qsize 0\n",
            "2020-09-26 08:13:18,430 : INFO : EPOCH 4 - PROGRESS: at 92.64% examples, 70538 words/s, in_qsize 7, out_qsize 0\n",
            "2020-09-26 08:13:19,495 : INFO : EPOCH 4 - PROGRESS: at 93.58% examples, 70536 words/s, in_qsize 7, out_qsize 0\n",
            "2020-09-26 08:13:20,542 : INFO : EPOCH 4 - PROGRESS: at 94.45% examples, 70555 words/s, in_qsize 8, out_qsize 0\n",
            "2020-09-26 08:13:21,598 : INFO : EPOCH 4 - PROGRESS: at 95.34% examples, 70541 words/s, in_qsize 7, out_qsize 0\n",
            "2020-09-26 08:13:22,605 : INFO : EPOCH 4 - PROGRESS: at 96.28% examples, 70575 words/s, in_qsize 7, out_qsize 0\n",
            "2020-09-26 08:13:23,661 : INFO : EPOCH 4 - PROGRESS: at 97.18% examples, 70577 words/s, in_qsize 7, out_qsize 0\n",
            "2020-09-26 08:13:24,718 : INFO : EPOCH 4 - PROGRESS: at 98.20% examples, 70657 words/s, in_qsize 8, out_qsize 0\n",
            "2020-09-26 08:13:25,829 : INFO : EPOCH 4 - PROGRESS: at 99.04% examples, 70612 words/s, in_qsize 7, out_qsize 0\n",
            "2020-09-26 08:13:26,515 : INFO : worker thread finished; awaiting finish of 3 more threads\n",
            "2020-09-26 08:13:26,620 : INFO : worker thread finished; awaiting finish of 2 more threads\n",
            "2020-09-26 08:13:26,648 : INFO : worker thread finished; awaiting finish of 1 more threads\n",
            "2020-09-26 08:13:26,672 : INFO : worker thread finished; awaiting finish of 0 more threads\n",
            "2020-09-26 08:13:26,674 : INFO : EPOCH - 4 : training on 8639353 raw words (8166350 effective words) took 115.4s, 70736 effective words/s\n",
            "2020-09-26 08:13:27,848 : INFO : EPOCH 5 - PROGRESS: at 0.86% examples, 56184 words/s, in_qsize 7, out_qsize 0\n",
            "2020-09-26 08:13:28,921 : INFO : EPOCH 5 - PROGRESS: at 1.80% examples, 62381 words/s, in_qsize 6, out_qsize 1\n",
            "2020-09-26 08:13:30,000 : INFO : EPOCH 5 - PROGRESS: at 2.73% examples, 64574 words/s, in_qsize 7, out_qsize 0\n",
            "2020-09-26 08:13:31,038 : INFO : EPOCH 5 - PROGRESS: at 3.69% examples, 66496 words/s, in_qsize 7, out_qsize 1\n",
            "2020-09-26 08:13:32,081 : INFO : EPOCH 5 - PROGRESS: at 4.57% examples, 67009 words/s, in_qsize 7, out_qsize 0\n",
            "2020-09-26 08:13:33,108 : INFO : EPOCH 5 - PROGRESS: at 5.53% examples, 67959 words/s, in_qsize 7, out_qsize 0\n",
            "2020-09-26 08:13:34,160 : INFO : EPOCH 5 - PROGRESS: at 6.52% examples, 68391 words/s, in_qsize 7, out_qsize 0\n",
            "2020-09-26 08:13:35,201 : INFO : EPOCH 5 - PROGRESS: at 7.43% examples, 68744 words/s, in_qsize 7, out_qsize 0\n",
            "2020-09-26 08:13:36,288 : INFO : EPOCH 5 - PROGRESS: at 8.57% examples, 69676 words/s, in_qsize 7, out_qsize 0\n",
            "2020-09-26 08:13:37,309 : INFO : EPOCH 5 - PROGRESS: at 9.53% examples, 69984 words/s, in_qsize 7, out_qsize 0\n",
            "2020-09-26 08:13:38,428 : INFO : EPOCH 5 - PROGRESS: at 10.53% examples, 70345 words/s, in_qsize 7, out_qsize 0\n",
            "2020-09-26 08:13:39,471 : INFO : EPOCH 5 - PROGRESS: at 11.49% examples, 70356 words/s, in_qsize 8, out_qsize 0\n",
            "2020-09-26 08:13:40,516 : INFO : EPOCH 5 - PROGRESS: at 12.37% examples, 70401 words/s, in_qsize 7, out_qsize 0\n",
            "2020-09-26 08:13:41,631 : INFO : EPOCH 5 - PROGRESS: at 13.40% examples, 70709 words/s, in_qsize 7, out_qsize 0\n",
            "2020-09-26 08:13:42,670 : INFO : EPOCH 5 - PROGRESS: at 14.36% examples, 70767 words/s, in_qsize 7, out_qsize 0\n",
            "2020-09-26 08:13:44,028 : INFO : EPOCH 5 - PROGRESS: at 15.33% examples, 70036 words/s, in_qsize 7, out_qsize 0\n",
            "2020-09-26 08:13:45,100 : INFO : EPOCH 5 - PROGRESS: at 16.25% examples, 69994 words/s, in_qsize 8, out_qsize 0\n",
            "2020-09-26 08:13:46,225 : INFO : EPOCH 5 - PROGRESS: at 17.28% examples, 70247 words/s, in_qsize 7, out_qsize 0\n",
            "2020-09-26 08:13:47,299 : INFO : EPOCH 5 - PROGRESS: at 18.17% examples, 70203 words/s, in_qsize 7, out_qsize 0\n",
            "2020-09-26 08:13:48,322 : INFO : EPOCH 5 - PROGRESS: at 19.22% examples, 70804 words/s, in_qsize 7, out_qsize 0\n",
            "2020-09-26 08:13:49,334 : INFO : EPOCH 5 - PROGRESS: at 20.19% examples, 70926 words/s, in_qsize 7, out_qsize 0\n",
            "2020-09-26 08:13:50,351 : INFO : EPOCH 5 - PROGRESS: at 21.02% examples, 70622 words/s, in_qsize 7, out_qsize 1\n",
            "2020-09-26 08:13:51,360 : INFO : EPOCH 5 - PROGRESS: at 21.94% examples, 70700 words/s, in_qsize 7, out_qsize 0\n",
            "2020-09-26 08:13:52,458 : INFO : EPOCH 5 - PROGRESS: at 22.85% examples, 70940 words/s, in_qsize 8, out_qsize 0\n",
            "2020-09-26 08:13:53,503 : INFO : EPOCH 5 - PROGRESS: at 23.80% examples, 70962 words/s, in_qsize 7, out_qsize 0\n",
            "2020-09-26 08:13:54,809 : INFO : EPOCH 5 - PROGRESS: at 24.86% examples, 70588 words/s, in_qsize 7, out_qsize 0\n",
            "2020-09-26 08:13:55,858 : INFO : EPOCH 5 - PROGRESS: at 25.73% examples, 70738 words/s, in_qsize 7, out_qsize 0\n",
            "2020-09-26 08:13:56,989 : INFO : EPOCH 5 - PROGRESS: at 26.96% examples, 71100 words/s, in_qsize 7, out_qsize 0\n",
            "2020-09-26 08:13:58,032 : INFO : EPOCH 5 - PROGRESS: at 27.84% examples, 71064 words/s, in_qsize 8, out_qsize 0\n",
            "2020-09-26 08:13:59,069 : INFO : EPOCH 5 - PROGRESS: at 28.74% examples, 71086 words/s, in_qsize 7, out_qsize 0\n",
            "2020-09-26 08:14:00,138 : INFO : EPOCH 5 - PROGRESS: at 29.66% examples, 71031 words/s, in_qsize 7, out_qsize 0\n",
            "2020-09-26 08:14:01,253 : INFO : EPOCH 5 - PROGRESS: at 30.58% examples, 70890 words/s, in_qsize 7, out_qsize 0\n",
            "2020-09-26 08:14:02,404 : INFO : EPOCH 5 - PROGRESS: at 31.53% examples, 70690 words/s, in_qsize 7, out_qsize 0\n",
            "2020-09-26 08:14:03,447 : INFO : EPOCH 5 - PROGRESS: at 32.43% examples, 70706 words/s, in_qsize 7, out_qsize 0\n",
            "2020-09-26 08:14:04,514 : INFO : EPOCH 5 - PROGRESS: at 33.33% examples, 70682 words/s, in_qsize 7, out_qsize 0\n",
            "2020-09-26 08:14:05,617 : INFO : EPOCH 5 - PROGRESS: at 34.23% examples, 70580 words/s, in_qsize 7, out_qsize 0\n",
            "2020-09-26 08:14:06,644 : INFO : EPOCH 5 - PROGRESS: at 35.14% examples, 70620 words/s, in_qsize 7, out_qsize 0\n",
            "2020-09-26 08:14:07,809 : INFO : EPOCH 5 - PROGRESS: at 36.18% examples, 70656 words/s, in_qsize 7, out_qsize 0\n",
            "2020-09-26 08:14:08,849 : INFO : EPOCH 5 - PROGRESS: at 37.16% examples, 70888 words/s, in_qsize 8, out_qsize 0\n",
            "2020-09-26 08:14:09,845 : INFO : EPOCH 5 - PROGRESS: at 37.98% examples, 70732 words/s, in_qsize 7, out_qsize 0\n",
            "2020-09-26 08:14:10,915 : INFO : EPOCH 5 - PROGRESS: at 38.87% examples, 70707 words/s, in_qsize 6, out_qsize 1\n",
            "2020-09-26 08:14:11,940 : INFO : EPOCH 5 - PROGRESS: at 39.71% examples, 70730 words/s, in_qsize 7, out_qsize 0\n",
            "2020-09-26 08:14:12,966 : INFO : EPOCH 5 - PROGRESS: at 40.60% examples, 70784 words/s, in_qsize 7, out_qsize 0\n",
            "2020-09-26 08:14:14,035 : INFO : EPOCH 5 - PROGRESS: at 41.57% examples, 70734 words/s, in_qsize 8, out_qsize 1\n",
            "2020-09-26 08:14:15,052 : INFO : EPOCH 5 - PROGRESS: at 42.49% examples, 70786 words/s, in_qsize 7, out_qsize 0\n",
            "2020-09-26 08:14:16,126 : INFO : EPOCH 5 - PROGRESS: at 43.43% examples, 70906 words/s, in_qsize 7, out_qsize 0\n",
            "2020-09-26 08:14:17,187 : INFO : EPOCH 5 - PROGRESS: at 44.27% examples, 70886 words/s, in_qsize 7, out_qsize 0\n",
            "2020-09-26 08:14:18,226 : INFO : EPOCH 5 - PROGRESS: at 45.16% examples, 70907 words/s, in_qsize 7, out_qsize 0\n",
            "2020-09-26 08:14:19,283 : INFO : EPOCH 5 - PROGRESS: at 46.17% examples, 71055 words/s, in_qsize 7, out_qsize 0\n",
            "2020-09-26 08:14:20,312 : INFO : EPOCH 5 - PROGRESS: at 47.05% examples, 71064 words/s, in_qsize 7, out_qsize 0\n",
            "2020-09-26 08:14:21,366 : INFO : EPOCH 5 - PROGRESS: at 47.94% examples, 71058 words/s, in_qsize 8, out_qsize 0\n",
            "2020-09-26 08:14:22,393 : INFO : EPOCH 5 - PROGRESS: at 48.71% examples, 70926 words/s, in_qsize 7, out_qsize 0\n",
            "2020-09-26 08:14:23,452 : INFO : EPOCH 5 - PROGRESS: at 49.60% examples, 70910 words/s, in_qsize 7, out_qsize 1\n",
            "2020-09-26 08:14:24,468 : INFO : EPOCH 5 - PROGRESS: at 50.52% examples, 70950 words/s, in_qsize 7, out_qsize 0\n",
            "2020-09-26 08:14:25,589 : INFO : EPOCH 5 - PROGRESS: at 51.47% examples, 71022 words/s, in_qsize 7, out_qsize 0\n",
            "2020-09-26 08:14:26,642 : INFO : EPOCH 5 - PROGRESS: at 52.48% examples, 71156 words/s, in_qsize 7, out_qsize 0\n",
            "2020-09-26 08:14:27,943 : INFO : EPOCH 5 - PROGRESS: at 53.44% examples, 70997 words/s, in_qsize 7, out_qsize 0\n",
            "2020-09-26 08:14:29,027 : INFO : EPOCH 5 - PROGRESS: at 54.30% examples, 70955 words/s, in_qsize 8, out_qsize 1\n",
            "2020-09-26 08:14:30,070 : INFO : EPOCH 5 - PROGRESS: at 55.19% examples, 70960 words/s, in_qsize 7, out_qsize 0\n",
            "2020-09-26 08:14:31,167 : INFO : EPOCH 5 - PROGRESS: at 56.20% examples, 71047 words/s, in_qsize 7, out_qsize 0\n",
            "2020-09-26 08:14:32,182 : INFO : EPOCH 5 - PROGRESS: at 57.08% examples, 71080 words/s, in_qsize 8, out_qsize 0\n",
            "2020-09-26 08:14:33,189 : INFO : EPOCH 5 - PROGRESS: at 58.02% examples, 71114 words/s, in_qsize 7, out_qsize 0\n",
            "2020-09-26 08:14:34,250 : INFO : EPOCH 5 - PROGRESS: at 58.95% examples, 71100 words/s, in_qsize 7, out_qsize 0\n",
            "2020-09-26 08:14:35,308 : INFO : EPOCH 5 - PROGRESS: at 59.82% examples, 71083 words/s, in_qsize 7, out_qsize 0\n",
            "2020-09-26 08:14:36,323 : INFO : EPOCH 5 - PROGRESS: at 60.71% examples, 71108 words/s, in_qsize 7, out_qsize 0\n",
            "2020-09-26 08:14:37,509 : INFO : EPOCH 5 - PROGRESS: at 61.81% examples, 71103 words/s, in_qsize 7, out_qsize 0\n",
            "2020-09-26 08:14:38,732 : INFO : EPOCH 5 - PROGRESS: at 62.80% examples, 71056 words/s, in_qsize 7, out_qsize 0\n",
            "2020-09-26 08:14:39,737 : INFO : EPOCH 5 - PROGRESS: at 63.69% examples, 71088 words/s, in_qsize 7, out_qsize 0\n",
            "2020-09-26 08:14:40,791 : INFO : EPOCH 5 - PROGRESS: at 64.62% examples, 71075 words/s, in_qsize 7, out_qsize 0\n",
            "2020-09-26 08:14:41,793 : INFO : EPOCH 5 - PROGRESS: at 65.45% examples, 71108 words/s, in_qsize 7, out_qsize 0\n",
            "2020-09-26 08:14:42,804 : INFO : EPOCH 5 - PROGRESS: at 66.10% examples, 70889 words/s, in_qsize 6, out_qsize 1\n",
            "2020-09-26 08:14:44,417 : INFO : EPOCH 5 - PROGRESS: at 66.77% examples, 70133 words/s, in_qsize 7, out_qsize 0\n",
            "2020-09-26 08:14:45,529 : INFO : EPOCH 5 - PROGRESS: at 67.37% examples, 69733 words/s, in_qsize 7, out_qsize 0\n",
            "2020-09-26 08:14:46,602 : INFO : EPOCH 5 - PROGRESS: at 68.08% examples, 69499 words/s, in_qsize 8, out_qsize 0\n",
            "2020-09-26 08:14:48,179 : INFO : EPOCH 5 - PROGRESS: at 68.62% examples, 68721 words/s, in_qsize 7, out_qsize 0\n",
            "2020-09-26 08:14:49,202 : INFO : EPOCH 5 - PROGRESS: at 69.12% examples, 68318 words/s, in_qsize 7, out_qsize 0\n",
            "2020-09-26 08:14:50,445 : INFO : EPOCH 5 - PROGRESS: at 69.96% examples, 68183 words/s, in_qsize 6, out_qsize 1\n",
            "2020-09-26 08:14:51,478 : INFO : EPOCH 5 - PROGRESS: at 70.97% examples, 68310 words/s, in_qsize 7, out_qsize 0\n",
            "2020-09-26 08:14:52,558 : INFO : EPOCH 5 - PROGRESS: at 71.85% examples, 68315 words/s, in_qsize 7, out_qsize 0\n",
            "2020-09-26 08:14:53,686 : INFO : EPOCH 5 - PROGRESS: at 72.85% examples, 68397 words/s, in_qsize 7, out_qsize 0\n",
            "2020-09-26 08:14:54,899 : INFO : EPOCH 5 - PROGRESS: at 73.92% examples, 68401 words/s, in_qsize 8, out_qsize 0\n",
            "2020-09-26 08:14:55,962 : INFO : EPOCH 5 - PROGRESS: at 74.81% examples, 68422 words/s, in_qsize 8, out_qsize 1\n",
            "2020-09-26 08:14:57,000 : INFO : EPOCH 5 - PROGRESS: at 75.68% examples, 68457 words/s, in_qsize 7, out_qsize 0\n",
            "2020-09-26 08:14:58,074 : INFO : EPOCH 5 - PROGRESS: at 76.55% examples, 68483 words/s, in_qsize 7, out_qsize 1\n",
            "2020-09-26 08:14:59,080 : INFO : EPOCH 5 - PROGRESS: at 77.47% examples, 68534 words/s, in_qsize 7, out_qsize 0\n",
            "2020-09-26 08:15:00,080 : INFO : EPOCH 5 - PROGRESS: at 78.40% examples, 68593 words/s, in_qsize 7, out_qsize 0\n",
            "2020-09-26 08:15:01,109 : INFO : EPOCH 5 - PROGRESS: at 79.32% examples, 68630 words/s, in_qsize 7, out_qsize 0\n",
            "2020-09-26 08:15:02,156 : INFO : EPOCH 5 - PROGRESS: at 80.26% examples, 68656 words/s, in_qsize 7, out_qsize 0\n",
            "2020-09-26 08:15:03,194 : INFO : EPOCH 5 - PROGRESS: at 81.21% examples, 68691 words/s, in_qsize 7, out_qsize 0\n",
            "2020-09-26 08:15:04,238 : INFO : EPOCH 5 - PROGRESS: at 82.09% examples, 68713 words/s, in_qsize 7, out_qsize 0\n",
            "2020-09-26 08:15:05,304 : INFO : EPOCH 5 - PROGRESS: at 83.03% examples, 68728 words/s, in_qsize 7, out_qsize 0\n",
            "2020-09-26 08:15:06,372 : INFO : EPOCH 5 - PROGRESS: at 83.89% examples, 68735 words/s, in_qsize 7, out_qsize 0\n",
            "2020-09-26 08:15:07,388 : INFO : EPOCH 5 - PROGRESS: at 84.77% examples, 68769 words/s, in_qsize 7, out_qsize 0\n",
            "2020-09-26 08:15:08,446 : INFO : EPOCH 5 - PROGRESS: at 85.65% examples, 68770 words/s, in_qsize 7, out_qsize 0\n",
            "2020-09-26 08:15:09,495 : INFO : EPOCH 5 - PROGRESS: at 86.54% examples, 68792 words/s, in_qsize 7, out_qsize 0\n",
            "2020-09-26 08:15:10,660 : INFO : EPOCH 5 - PROGRESS: at 87.65% examples, 68828 words/s, in_qsize 7, out_qsize 0\n",
            "2020-09-26 08:15:11,736 : INFO : EPOCH 5 - PROGRESS: at 88.63% examples, 68905 words/s, in_qsize 7, out_qsize 0\n",
            "2020-09-26 08:15:12,793 : INFO : EPOCH 5 - PROGRESS: at 89.46% examples, 68912 words/s, in_qsize 7, out_qsize 0\n",
            "2020-09-26 08:15:13,819 : INFO : EPOCH 5 - PROGRESS: at 90.38% examples, 68938 words/s, in_qsize 7, out_qsize 0\n",
            "2020-09-26 08:15:14,874 : INFO : EPOCH 5 - PROGRESS: at 91.33% examples, 68952 words/s, in_qsize 7, out_qsize 0\n",
            "2020-09-26 08:15:15,886 : INFO : EPOCH 5 - PROGRESS: at 92.27% examples, 68994 words/s, in_qsize 7, out_qsize 0\n",
            "2020-09-26 08:15:16,931 : INFO : EPOCH 5 - PROGRESS: at 93.22% examples, 69014 words/s, in_qsize 7, out_qsize 0\n",
            "2020-09-26 08:15:17,995 : INFO : EPOCH 5 - PROGRESS: at 94.12% examples, 69030 words/s, in_qsize 7, out_qsize 0\n",
            "2020-09-26 08:15:19,006 : INFO : EPOCH 5 - PROGRESS: at 94.98% examples, 69069 words/s, in_qsize 7, out_qsize 0\n",
            "2020-09-26 08:15:20,044 : INFO : EPOCH 5 - PROGRESS: at 95.90% examples, 69096 words/s, in_qsize 7, out_qsize 0\n",
            "2020-09-26 08:15:21,345 : INFO : EPOCH 5 - PROGRESS: at 96.97% examples, 69044 words/s, in_qsize 7, out_qsize 0\n",
            "2020-09-26 08:15:22,370 : INFO : EPOCH 5 - PROGRESS: at 97.84% examples, 69074 words/s, in_qsize 7, out_qsize 0\n",
            "2020-09-26 08:15:23,411 : INFO : EPOCH 5 - PROGRESS: at 98.75% examples, 69091 words/s, in_qsize 7, out_qsize 0\n",
            "2020-09-26 08:15:24,450 : INFO : EPOCH 5 - PROGRESS: at 99.66% examples, 69111 words/s, in_qsize 3, out_qsize 1\n",
            "2020-09-26 08:15:24,451 : INFO : worker thread finished; awaiting finish of 3 more threads\n",
            "2020-09-26 08:15:24,545 : INFO : worker thread finished; awaiting finish of 2 more threads\n",
            "2020-09-26 08:15:24,561 : INFO : worker thread finished; awaiting finish of 1 more threads\n",
            "2020-09-26 08:15:24,578 : INFO : worker thread finished; awaiting finish of 0 more threads\n",
            "2020-09-26 08:15:24,580 : INFO : EPOCH - 5 : training on 8639353 raw words (8166599 effective words) took 117.9s, 69267 effective words/s\n",
            "2020-09-26 08:15:24,581 : INFO : training on a 43196765 raw words (40832705 effective words) took 593.7s, 68782 effective words/s\n"
          ],
          "name": "stderr"
        },
        {
          "output_type": "stream",
          "text": [
            "CPU times: user 19min 10s, sys: 2.29 s, total: 19min 12s\n",
            "Wall time: 10min 4s\n"
          ],
          "name": "stdout"
        }
      ]
    },
    {
      "cell_type": "code",
      "metadata": {
        "id": "jf6dd5gRfQUd",
        "colab_type": "code",
        "colab": {}
      },
      "source": [
        "def averaged_word2vec_vectorizer(corpus, model, num_features):\n",
        "    vocabulary = set(model.wv.index2word)\n",
        "    \n",
        "    def average_word_vectors(words, model, vocabulary, num_features):\n",
        "        feature_vector = np.zeros((num_features,), dtype=\"float64\")\n",
        "        nwords = 0.\n",
        "        \n",
        "        for word in words:\n",
        "            if word in vocabulary: \n",
        "                nwords = nwords + 1.\n",
        "                feature_vector = np.add(feature_vector, model.wv[word])\n",
        "        if nwords:\n",
        "            feature_vector = np.divide(feature_vector, nwords)\n",
        "\n",
        "        return feature_vector\n",
        "\n",
        "    features = [average_word_vectors(tokenized_sentence, model, vocabulary, num_features)\n",
        "                    for tokenized_sentence in corpus]\n",
        "    return np.array(features)"
      ],
      "execution_count": 24,
      "outputs": []
    },
    {
      "cell_type": "code",
      "metadata": {
        "id": "SVeti7oKfYj1",
        "colab_type": "code",
        "colab": {}
      },
      "source": [
        "# generate averaged word vector features from word2vec model\n",
        "avg_wv_train_features = averaged_word2vec_vectorizer(corpus=tokenized_train, model=w2v_model,\n",
        "                                                     num_features=w2v_num_features)\n",
        "avg_wv_test_features = averaged_word2vec_vectorizer(corpus=tokenized_test, model=w2v_model,\n",
        "                                                    num_features=w2v_num_features)"
      ],
      "execution_count": 25,
      "outputs": []
    },
    {
      "cell_type": "code",
      "metadata": {
        "id": "53GuXEkIft8J",
        "colab_type": "code",
        "colab": {
          "base_uri": "https://localhost:8080/",
          "height": 34
        },
        "outputId": "1a0ff07c-0c9d-4a91-f163-6807ee8b507b"
      },
      "source": [
        "print('Word2Vec model:> Train features shape:', avg_wv_train_features.shape, ' Test features shape:', avg_wv_test_features.shape)\n"
      ],
      "execution_count": 26,
      "outputs": [
        {
          "output_type": "stream",
          "text": [
            "Word2Vec model:> Train features shape: (35413, 300)  Test features shape: (8854, 300)\n"
          ],
          "name": "stdout"
        }
      ]
    },
    {
      "cell_type": "markdown",
      "metadata": {
        "id": "lTIWgHksf2bJ",
        "colab_type": "text"
      },
      "source": [
        "**Modeling with Deep Neural Networks**"
      ]
    },
    {
      "cell_type": "markdown",
      "metadata": {
        "id": "HRLNGvJzf9bh",
        "colab_type": "text"
      },
      "source": [
        "**Building Deep neural network architecture**"
      ]
    },
    {
      "cell_type": "code",
      "metadata": {
        "id": "xoduhBR0f7WJ",
        "colab_type": "code",
        "colab": {}
      },
      "source": [
        "def construct_deepnn_architecture(num_input_features):\n",
        "    dnn_model = Sequential()\n",
        "    dnn_model.add(Dense(512, input_shape=(num_input_features,)))\n",
        "    dnn_model.add(Activation('relu'))\n",
        "    dnn_model.add(Dropout(0.2))\n",
        "    \n",
        "    dnn_model.add(Dense(256))\n",
        "    dnn_model.add(Activation('relu'))\n",
        "    dnn_model.add(Dropout(0.2))\n",
        "    \n",
        "    dnn_model.add(Dense(256))\n",
        "    dnn_model.add(Activation('relu'))\n",
        "    dnn_model.add(Dropout(0.2))\n",
        "    \n",
        "    dnn_model.add(Dense(1))\n",
        "    dnn_model.add(Activation('sigmoid'))\n",
        "\n",
        "    dnn_model.compile(loss='binary_crossentropy', optimizer='adam',                 \n",
        "                      metrics=['accuracy'])\n",
        "    return dnn_model"
      ],
      "execution_count": 27,
      "outputs": []
    },
    {
      "cell_type": "code",
      "metadata": {
        "id": "dhnKdn7ugGRM",
        "colab_type": "code",
        "colab": {}
      },
      "source": [
        "w2v_dnn = construct_deepnn_architecture(num_input_features=w2v_num_features)"
      ],
      "execution_count": 28,
      "outputs": []
    },
    {
      "cell_type": "code",
      "metadata": {
        "id": "O6F3i1WsgOO9",
        "colab_type": "code",
        "colab": {
          "base_uri": "https://localhost:8080/",
          "height": 527
        },
        "outputId": "1a56189b-82fe-40b6-89c3-ba557ad1a5ec"
      },
      "source": [
        "w2v_dnn.summary()"
      ],
      "execution_count": 29,
      "outputs": [
        {
          "output_type": "stream",
          "text": [
            "Model: \"sequential\"\n",
            "_________________________________________________________________\n",
            "Layer (type)                 Output Shape              Param #   \n",
            "=================================================================\n",
            "dense (Dense)                (None, 512)               154112    \n",
            "_________________________________________________________________\n",
            "activation (Activation)      (None, 512)               0         \n",
            "_________________________________________________________________\n",
            "dropout (Dropout)            (None, 512)               0         \n",
            "_________________________________________________________________\n",
            "dense_1 (Dense)              (None, 256)               131328    \n",
            "_________________________________________________________________\n",
            "activation_1 (Activation)    (None, 256)               0         \n",
            "_________________________________________________________________\n",
            "dropout_1 (Dropout)          (None, 256)               0         \n",
            "_________________________________________________________________\n",
            "dense_2 (Dense)              (None, 256)               65792     \n",
            "_________________________________________________________________\n",
            "activation_2 (Activation)    (None, 256)               0         \n",
            "_________________________________________________________________\n",
            "dropout_2 (Dropout)          (None, 256)               0         \n",
            "_________________________________________________________________\n",
            "dense_3 (Dense)              (None, 1)                 257       \n",
            "_________________________________________________________________\n",
            "activation_3 (Activation)    (None, 1)                 0         \n",
            "=================================================================\n",
            "Total params: 351,489\n",
            "Trainable params: 351,489\n",
            "Non-trainable params: 0\n",
            "_________________________________________________________________\n"
          ],
          "name": "stdout"
        }
      ]
    },
    {
      "cell_type": "markdown",
      "metadata": {
        "id": "d0Cw3i2ighvP",
        "colab_type": "text"
      },
      "source": [
        "**Model Training, Prediction, and Performance Evaluation**"
      ]
    },
    {
      "cell_type": "code",
      "metadata": {
        "id": "_lBPoLEhgozb",
        "colab_type": "code",
        "colab": {
          "base_uri": "https://localhost:8080/",
          "height": 374
        },
        "outputId": "37517ab8-22b5-41b0-b2c6-9b9c841ce66e"
      },
      "source": [
        "batch_size = 100\n",
        "w2v_dnn.fit(avg_wv_train_features, y_train, epochs=10, batch_size=batch_size, \n",
        "            shuffle=True, validation_split=0.1, verbose=1)"
      ],
      "execution_count": 30,
      "outputs": [
        {
          "output_type": "stream",
          "text": [
            "Epoch 1/10\n",
            "319/319 [==============================] - 3s 10ms/step - loss: 0.0435 - accuracy: 0.9847 - val_loss: 0.0412 - val_accuracy: 0.9867\n",
            "Epoch 2/10\n",
            "319/319 [==============================] - 3s 10ms/step - loss: 0.0194 - accuracy: 0.9938 - val_loss: 0.0205 - val_accuracy: 0.9941\n",
            "Epoch 3/10\n",
            "319/319 [==============================] - 3s 10ms/step - loss: 0.0150 - accuracy: 0.9954 - val_loss: 0.0282 - val_accuracy: 0.9912\n",
            "Epoch 4/10\n",
            "319/319 [==============================] - 3s 10ms/step - loss: 0.0112 - accuracy: 0.9966 - val_loss: 0.0217 - val_accuracy: 0.9935\n",
            "Epoch 5/10\n",
            "319/319 [==============================] - 3s 10ms/step - loss: 0.0103 - accuracy: 0.9967 - val_loss: 0.0250 - val_accuracy: 0.9935\n",
            "Epoch 6/10\n",
            "319/319 [==============================] - 3s 10ms/step - loss: 0.0084 - accuracy: 0.9969 - val_loss: 0.0307 - val_accuracy: 0.9921\n",
            "Epoch 7/10\n",
            "319/319 [==============================] - 3s 10ms/step - loss: 0.0064 - accuracy: 0.9976 - val_loss: 0.0306 - val_accuracy: 0.9935\n",
            "Epoch 8/10\n",
            "319/319 [==============================] - 3s 10ms/step - loss: 0.0042 - accuracy: 0.9988 - val_loss: 0.0270 - val_accuracy: 0.9946\n",
            "Epoch 9/10\n",
            "319/319 [==============================] - 3s 10ms/step - loss: 0.0056 - accuracy: 0.9978 - val_loss: 0.0239 - val_accuracy: 0.9924\n",
            "Epoch 10/10\n",
            "319/319 [==============================] - 3s 10ms/step - loss: 0.0043 - accuracy: 0.9985 - val_loss: 0.0251 - val_accuracy: 0.9955\n"
          ],
          "name": "stdout"
        },
        {
          "output_type": "execute_result",
          "data": {
            "text/plain": [
              "<tensorflow.python.keras.callbacks.History at 0x7f0d8efb7ba8>"
            ]
          },
          "metadata": {
            "tags": []
          },
          "execution_count": 30
        }
      ]
    },
    {
      "cell_type": "code",
      "metadata": {
        "id": "ptfCAYnVg92z",
        "colab_type": "code",
        "colab": {
          "base_uri": "https://localhost:8080/",
          "height": 173
        },
        "outputId": "45e23b9e-84b5-49b3-99e3-05a0e46da13b"
      },
      "source": [
        "y_pred = w2v_dnn.predict_classes(avg_wv_test_features)\n",
        "predictions = le.inverse_transform(y_pred)\n"
      ],
      "execution_count": 31,
      "outputs": [
        {
          "output_type": "stream",
          "text": [
            "WARNING:tensorflow:From <ipython-input-31-829a073cbe31>:1: Sequential.predict_classes (from tensorflow.python.keras.engine.sequential) is deprecated and will be removed after 2021-01-01.\n",
            "Instructions for updating:\n",
            "Please use instead:* `np.argmax(model.predict(x), axis=-1)`,   if your model does multi-class classification   (e.g. if it uses a `softmax` last-layer activation).* `(model.predict(x) > 0.5).astype(\"int32\")`,   if your model does binary classification   (e.g. if it uses a `sigmoid` last-layer activation).\n"
          ],
          "name": "stdout"
        },
        {
          "output_type": "stream",
          "text": [
            "2020-09-26 08:25:52,430 : WARNING : From <ipython-input-31-829a073cbe31>:1: Sequential.predict_classes (from tensorflow.python.keras.engine.sequential) is deprecated and will be removed after 2021-01-01.\n",
            "Instructions for updating:\n",
            "Please use instead:* `np.argmax(model.predict(x), axis=-1)`,   if your model does multi-class classification   (e.g. if it uses a `softmax` last-layer activation).* `(model.predict(x) > 0.5).astype(\"int32\")`,   if your model does binary classification   (e.g. if it uses a `sigmoid` last-layer activation).\n",
            "/usr/local/lib/python3.6/dist-packages/sklearn/preprocessing/_label.py:289: DataConversionWarning: A column-vector y was passed when a 1d array was expected. Please change the shape of y to (n_samples, ), for example using ravel().\n",
            "  y = column_or_1d(y, warn=True)\n"
          ],
          "name": "stderr"
        }
      ]
    },
    {
      "cell_type": "code",
      "metadata": {
        "id": "bFr26BHUhTQm",
        "colab_type": "code",
        "colab": {
          "base_uri": "https://localhost:8080/",
          "height": 264
        },
        "outputId": "b0c6739f-4ad1-4dad-aee3-49b5f770f24e"
      },
      "source": [
        "from sklearn.metrics import confusion_matrix, classification_report\n",
        "\n",
        "labels = ['negative', 'positive']\n",
        "print(classification_report(y_test_realfake, predictions))\n",
        "pd.DataFrame(confusion_matrix(y_test_realfake, predictions), index=labels, columns=labels)"
      ],
      "execution_count": 33,
      "outputs": [
        {
          "output_type": "stream",
          "text": [
            "              precision    recall  f1-score   support\n",
            "\n",
            "           0       0.99      1.00      1.00      4335\n",
            "           1       1.00      1.00      1.00      4519\n",
            "\n",
            "    accuracy                           1.00      8854\n",
            "   macro avg       1.00      1.00      1.00      8854\n",
            "weighted avg       1.00      1.00      1.00      8854\n",
            "\n"
          ],
          "name": "stdout"
        },
        {
          "output_type": "execute_result",
          "data": {
            "text/html": [
              "<div>\n",
              "<style scoped>\n",
              "    .dataframe tbody tr th:only-of-type {\n",
              "        vertical-align: middle;\n",
              "    }\n",
              "\n",
              "    .dataframe tbody tr th {\n",
              "        vertical-align: top;\n",
              "    }\n",
              "\n",
              "    .dataframe thead th {\n",
              "        text-align: right;\n",
              "    }\n",
              "</style>\n",
              "<table border=\"1\" class=\"dataframe\">\n",
              "  <thead>\n",
              "    <tr style=\"text-align: right;\">\n",
              "      <th></th>\n",
              "      <th>negative</th>\n",
              "      <th>positive</th>\n",
              "    </tr>\n",
              "  </thead>\n",
              "  <tbody>\n",
              "    <tr>\n",
              "      <th>negative</th>\n",
              "      <td>4322</td>\n",
              "      <td>13</td>\n",
              "    </tr>\n",
              "    <tr>\n",
              "      <th>positive</th>\n",
              "      <td>22</td>\n",
              "      <td>4497</td>\n",
              "    </tr>\n",
              "  </tbody>\n",
              "</table>\n",
              "</div>"
            ],
            "text/plain": [
              "          negative  positive\n",
              "negative      4322        13\n",
              "positive        22      4497"
            ]
          },
          "metadata": {
            "tags": []
          },
          "execution_count": 33
        }
      ]
    }
  ]
}